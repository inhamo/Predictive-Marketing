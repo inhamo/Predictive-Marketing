{
 "cells": [
  {
   "cell_type": "code",
   "execution_count": null,
   "id": "bbd1ca23",
   "metadata": {},
   "outputs": [],
   "source": [
    "import findspark\n",
    "from pyspark.sql import SparkSession, Window\n",
    "from pyspark.sql.functions import col, year, month, count, desc, asc, round, countDistinct, sum, quarter, format_number, concat, lit, lag, when\n",
    "\n",
    "import matplotlib.pyplot as plt \n",
    "import seaborn as sns \n",
    "import pandas as pd \n",
    "import numpy as np"
   ]
  },
  {
   "cell_type": "code",
   "execution_count": 2,
   "id": "aeac79e5",
   "metadata": {},
   "outputs": [],
   "source": [
    "findspark.init()\n",
    "\n",
    "spark = SparkSession.builder \\\n",
    "    .appName(\"Data Analysis\") \\\n",
    "    .config(\"spark.driver.memory\", \"2g\") \\\n",
    "    .config(\"spark.executor.memory\", \"2g\") \\\n",
    "    .config(\"spark.driver.extraClassPath\", r\"C:\\Drivers\\sqljdbc_12.10.0.0_enu\\sqljdbc_12.10\\enu\\jars\\mssql-jdbc-12.10.0.jre11.jar\") \\\n",
    "    .getOrCreate()\n",
    "\n",
    "# Read CSV\n",
    "customers = spark.read.csv(\n",
    "    \"../final data/customer_features.csv\",\n",
    "    header=True,\n",
    "    inferSchema=True,\n",
    "    sep=\",\",\n",
    "    quote='\"',\n",
    "    escape='\"',\n",
    "    multiLine=True  \n",
    ")\n",
    "\n",
    "orders = spark.read.csv(\n",
    "    \"../final data/orders_facts.csv\",\n",
    "    header=True, \n",
    "    inferSchema=True, \n",
    "    sep=\",\",\n",
    "    quote='\"',\n",
    "    escape='\"',\n",
    "    multiLine=True\n",
    ")\n",
    "\n",
    "region = spark.read.csv(\n",
    "    \"../final data/region_dim.csv\", \n",
    "    header=True, \n",
    "    inferSchema=True\n",
    ")\n",
    "\n",
    "product = spark.read.csv(\n",
    "    \"../final data/product_dim.csv\", \n",
    "    header=True, \n",
    "    inferSchema=True\n",
    ")\n"
   ]
  },
  {
   "cell_type": "markdown",
   "id": "7112a36c",
   "metadata": {},
   "source": [
    "# Get to Know Your Customers First: Build Complete Customer Profiles"
   ]
  },
  {
   "cell_type": "code",
   "execution_count": 3,
   "id": "8454b0b0",
   "metadata": {},
   "outputs": [
    {
     "name": "stdout",
     "output_type": "stream",
     "text": [
      "+-----------+-------------------+------------------+---------------+---------------------+-----------------------+----------------------------+-----------------------+------------------------+----------------------+------------------+--------------------------+--------------------------------+---------------------+---------------------+----------------------------------+--------------------------+----------------+-----------------------+---------------------+-----------------+--------------------------+--------------------------+---------------------------+\n",
      "|customer_id|customer_first_date|customer_last_date|customer_tenure|customer_no_of_orders|customer_total_quantity|customer_average_order_value|customer_historical_clv|customer_diversity_score|customer_total_revenue|customer_is_repeat|customer_churn_probability|customer_avg_days_between_orders|customer_return_count|customer_return_value|customer_first_order_product_count|customer_first_order_value|customer_recency|customer_shipment_costs|discount_junkie_score|avg_discount_rate|discount_order_value_ratio|non_discounted_order_count|discount_threshold_behavior|\n",
      "+-----------+-------------------+------------------+---------------+---------------------+-----------------------+----------------------------+-----------------------+------------------------+----------------------+------------------+--------------------------+--------------------------------+---------------------+---------------------+----------------------------------+--------------------------+----------------+-----------------------+---------------------+-----------------+--------------------------+--------------------------+---------------------------+\n",
      "|         10|         2011-10-04|        2011-10-04|              0|                    1|                     14|                      204.96|                 204.96|                     0.0|                204.96|             false|                       0.0|                            NULL|                    0|                  0.0|                                14|                    204.96|             819|                   1.39|                  0.5|             0.06|                       0.0|                         0|                      false|\n",
      "|        100|         2013-02-14|        2013-02-14|              0|                    1|                      5|                      263.15|                 263.15|                     0.0|                263.15|             false|                       0.0|                            NULL|                    0|                  0.0|                                 5|                    263.15|             320|                    5.0|                  0.5|             0.06|                       0.0|                         0|                      false|\n",
      "|       1000|         2010-09-14|        2010-09-14|              0|                    1|                     12|                      395.52|                 395.52|                     0.0|                395.52|             false|                       0.0|                            NULL|                    0|                  0.0|                                12|                    395.52|            1204|                  19.99|                  0.5|             0.03|                       0.0|                         0|                      false|\n",
      "|       1002|         2011-05-25|        2011-05-25|              0|                    1|                     29|                     2342.39|                2342.39|                     0.0|               2342.39|             false|                       0.0|                             0.0|                    0|                  0.0|                                12|                     92.88|             951|                  16.28|                  0.8|            0.045|                       0.0|                         0|                      false|\n",
      "|       1003|         2013-02-17|        2013-02-17|              0|                    1|                     11|                     1330.67|                1330.67|                     0.0|               1330.67|             false|                       0.0|                            NULL|                    0|                  0.0|                                11|                   1330.67|             317|                   26.3|                  0.0|              0.0|                       0.0|                         1|                      false|\n",
      "|       1005|         2010-03-04|        2010-08-27|            176|                    2|                     24|                      466.72|                  450.1|                     0.0|                933.44|              true|                       0.0|                           176.0|                    0|                  0.0|                                 1|                      9.53|            1222|                  19.75|                  0.5|             0.04|                       0.0|                         0|                      false|\n",
      "|       1006|         2011-01-26|        2013-12-22|           1061|                    3|                     30|                      190.67|                1662.75|                     0.0|                 572.0|              true|                       0.0|                           353.0|                    0|                  0.0|                                 8|                      78.4|               9|                   19.4|                 0.57|            0.035|                       0.0|                         0|                      false|\n",
      "|       1008|         2010-05-25|        2010-05-25|              0|                    1|                      8|                       24.96|                  24.96|                     0.0|                 24.96|             false|                       0.0|                            NULL|                    0|                  0.0|                                 8|                     24.96|            1316|                   0.49|                  0.5|             0.01|                       0.0|                         0|                      false|\n",
      "|       1009|         2010-12-19|        2013-01-23|            766|                    2|                     30|                     3501.34|               14696.03|                     0.0|              14005.36|              true|                       0.0|                           766.0|                    0|                  0.0|                                14|                   6942.32|             342|                  100.4|                  0.5|            0.055|                       0.0|                         0|                      false|\n",
      "|        101|         2010-06-22|        2012-04-24|            672|                    2|                     29|                     1004.18|                3697.58|                     0.0|               2008.36|              true|                       0.0|                           672.0|                    0|                  0.0|                                16|                    287.68|             616|                  21.85|                  0.5|            0.095|                       0.0|                         0|                      false|\n",
      "|       1010|         2011-01-07|        2011-01-07|              0|                    1|                      3|                       26.73|                  26.73|                     0.0|                 26.73|             false|                       0.0|                            NULL|                    0|                  0.0|                                 3|                     26.73|            1089|                   2.03|                  0.5|             0.08|                       0.0|                         0|                      false|\n",
      "|       1011|         2013-07-02|        2013-07-02|              0|                    1|                      1|                       10.84|                  10.84|                     0.0|                 10.84|             false|                       0.0|                            NULL|                    0|                  0.0|                                 1|                     10.84|             182|                   8.99|                  0.5|             0.07|                       0.0|                         0|                      false|\n",
      "|       1012|         2012-08-17|        2012-08-17|              0|                    1|                      5|                        98.6|                   98.6|                     0.0|                  98.6|             false|                       0.0|                            NULL|                    0|                  0.0|                                 5|                      98.6|             501|                   1.49|                  0.5|             0.06|                       0.0|                         0|                      false|\n",
      "|       1014|         2010-03-01|        2012-12-17|           1022|                    5|                     57|                      179.53|                2513.42|                     0.0|                897.63|              true|                       0.0|                           170.0|                    0|                  0.0|                                 6|                    155.52|             379|                  32.44|                 0.55|         0.052857|                142.850961|                         1|                      false|\n",
      "|       1015|         2010-09-18|        2013-11-18|           1157|                    4|                     90|                      1067.3|               13532.78|                     0.0|                4269.2|              true|                       0.0|                           231.0|                    0|                  0.0|                                14|                    615.72|              43|                  94.51|                 0.56|         0.043333|                  5.933671|                         1|                      false|\n",
      "|       1016|         2010-06-12|        2011-08-02|            416|                    2|                     32|                     1022.96|                2331.79|                     0.0|               2045.92|              true|                       0.0|                           138.0|                    0|                  0.0|                                 1|                      6.35|             882|                  22.06|                  0.6|           0.0325|                   0.10357|                         1|                      false|\n",
      "|       1017|         2012-10-01|        2013-06-12|            254|                    2|                     15|                      413.71|                 575.79|                     0.0|                827.42|              true|                       0.0|                           127.0|                    0|                  0.0|                                 1|                     12.92|             202|                  19.35|                  0.6|         0.046666|                       0.0|                         0|                      false|\n",
      "|       1018|         2010-10-08|        2012-12-03|            787|                    4|                     64|                      306.54|                 2643.8|                     0.0|               1226.14|              true|                       0.0|                           131.0|                    0|                  0.0|                                19|                     647.9|             393|                  49.89|                 0.56|         0.038571|                 12.854689|                         2|                      false|\n",
      "|        102|         2010-04-06|        2013-02-14|           1045|                    7|                    560|                     4041.78|               81001.68|                     0.0|              28292.43|              true|                       0.0|                            74.0|                    0|                  0.0|                                31|                   8957.14|             320|                 149.93|                 0.68|         0.053333|                       0.0|                         0|                      false|\n",
      "|       1020|         2010-03-07|        2013-09-21|           1294|                    7|                    202|                      470.23|               11669.43|                     0.0|               6583.18|              true|                       0.0|                           184.0|                    0|                  0.0|                                 5|                   2354.55|             101|                 110.62|                  0.5|          0.05125|                 51.480707|                         1|                      false|\n",
      "+-----------+-------------------+------------------+---------------+---------------------+-----------------------+----------------------------+-----------------------+------------------------+----------------------+------------------+--------------------------+--------------------------------+---------------------+---------------------+----------------------------------+--------------------------+----------------+-----------------------+---------------------+-----------------+--------------------------+--------------------------+---------------------------+\n",
      "only showing top 20 rows\n",
      "\n"
     ]
    }
   ],
   "source": [
    "customers.show()"
   ]
  },
  {
   "cell_type": "code",
   "execution_count": 4,
   "id": "5f48b6c1",
   "metadata": {},
   "outputs": [],
   "source": [
    "customers = customers \\\n",
    "    .withColumn(\"first_year\", year(col(\"customer_first_date\"))) \\\n",
    "    .withColumn(\"first_month\", month(col(\"customer_first_date\")))\n"
   ]
  },
  {
   "cell_type": "markdown",
   "id": "d6e45b72",
   "metadata": {},
   "source": [
    "#### How many new customers am I acquiring each  year and month?"
   ]
  },
  {
   "cell_type": "code",
   "execution_count": 5,
   "id": "f40ad351",
   "metadata": {},
   "outputs": [
    {
     "name": "stdout",
     "output_type": "stream",
     "text": [
      "+----------+--------------+\n",
      "|first_year|customer_count|\n",
      "+----------+--------------+\n",
      "|      2010|          1130|\n",
      "|      2011|           714|\n",
      "|      2012|           462|\n",
      "|      2013|           397|\n",
      "+----------+--------------+\n",
      "\n"
     ]
    }
   ],
   "source": [
    "customers.select(\"customer_id\", \"first_year\") \\\n",
    "    .groupBy(\"first_year\") \\\n",
    "    .agg(count(\"customer_id\").alias(\"customer_count\")) \\\n",
    "    .orderBy(asc(\"first_year\")) \\\n",
    "    .show()"
   ]
  },
  {
   "cell_type": "code",
   "execution_count": 6,
   "id": "ce680160",
   "metadata": {},
   "outputs": [
    {
     "name": "stdout",
     "output_type": "stream",
     "text": [
      "+----------+-----------+--------------+\n",
      "|first_year|first_month|customer_count|\n",
      "+----------+-----------+--------------+\n",
      "|      2010|          1|           141|\n",
      "|      2010|          2|            96|\n",
      "|      2010|          3|           125|\n",
      "|      2010|          4|           105|\n",
      "|      2010|          5|           103|\n",
      "|      2010|          6|            84|\n",
      "|      2010|          7|            92|\n",
      "|      2010|          8|            89|\n",
      "|      2010|          9|            74|\n",
      "|      2010|         10|            77|\n",
      "|      2010|         11|            74|\n",
      "|      2010|         12|            70|\n",
      "|      2011|          1|            74|\n",
      "|      2011|          2|            64|\n",
      "|      2011|          3|            62|\n",
      "|      2011|          4|            53|\n",
      "|      2011|          5|            74|\n",
      "|      2011|          6|            60|\n",
      "|      2011|          7|            56|\n",
      "|      2011|          8|            49|\n",
      "+----------+-----------+--------------+\n",
      "only showing top 20 rows\n",
      "\n"
     ]
    }
   ],
   "source": [
    "customers.select(\"customer_id\", \"first_year\", \"first_month\") \\\n",
    "    .groupBy(\"first_year\", \"first_month\") \\\n",
    "    .agg(count(\"customer_id\").alias(\"customer_count\")) \\\n",
    "    .orderBy(asc(\"first_year\"), asc(\"first_month\")) \\\n",
    "    .show()"
   ]
  },
  {
   "cell_type": "markdown",
   "id": "ce63ff63",
   "metadata": {},
   "source": [
    "# What is our true cost ot acquire new customers? \n",
    "\n",
    "Since we don't have the marketing and expenses data we cannot get the answer to that, however for now we are losing money in discounts trying to acquire customers and retain customers so we might as well use the discount to know how much on average we are losing because of that."
   ]
  },
  {
   "cell_type": "code",
   "execution_count": 7,
   "id": "2a3afec5",
   "metadata": {},
   "outputs": [
    {
     "name": "stdout",
     "output_type": "stream",
     "text": [
      "+----------+--------------------+-------------+---------------------+\n",
      "|first_year|total_discount_spend|new_customers|discount_per_customer|\n",
      "+----------+--------------------+-------------+---------------------+\n",
      "|      2010|            10230.78|         1130|                 9.05|\n",
      "|      2011|             4421.12|          714|                 6.19|\n",
      "|      2012|              2736.7|          462|                 5.92|\n",
      "|      2013|             3288.64|          397|                 8.28|\n",
      "+----------+--------------------+-------------+---------------------+\n",
      "\n"
     ]
    }
   ],
   "source": [
    "orders\\\n",
    ".join(\n",
    "    customers, \"customer_id\"\n",
    ").withColumn(\n",
    "    \"order_year\", year(\"order_date\")\n",
    ").filter(\n",
    "    col(\"order_year\") == col(\"first_year\")\n",
    ").select(\n",
    "    \"customer_id\", \n",
    "    \"discount_amount\", \n",
    "    \"first_year\"\n",
    ").groupBy(\n",
    "    \"first_year\"\n",
    ").agg(\n",
    "    round(sum(\"discount_amount\"), 2).alias(\"total_discount_spend\"), \n",
    "    countDistinct(\"customer_id\").alias(\"new_customers\"), \n",
    "    round((sum(\"discount_amount\") / countDistinct(\"customer_id\")), 2).alias(\"discount_per_customer\")\n",
    ").orderBy(\n",
    "    asc(\"first_year\")\n",
    ").show()"
   ]
  },
  {
   "cell_type": "markdown",
   "id": "1369e72d",
   "metadata": {},
   "source": [
    "We have the drop in discount per customer in the year 2011 and 2012 possibly due to correct targeting or higher organic growth (less reliance on discounts). A rising discount per customer amount in 2013 can leave us with question of whether their is increasing competition or if discounts were not as effective.\n",
    "\n",
    "Possible steps \n",
    "1. Repeat purchases (Cohort analysis)\n",
    "* % of discounted customers who made a 2nd purchase \n",
    "* If the retition is low, discounts may not be worth it. (how low is low)"
   ]
  },
  {
   "cell_type": "markdown",
   "id": "20d2d4fa",
   "metadata": {},
   "source": [
    "####  What is my revenue per customer? How is it trending?"
   ]
  },
  {
   "cell_type": "code",
   "execution_count": 8,
   "id": "57762b0b",
   "metadata": {},
   "outputs": [
    {
     "name": "stdout",
     "output_type": "stream",
     "text": [
      "+----------------+-------------+---------+--------------------------+\n",
      "|year(order_date)|total_revenue|customers|total_revenue_per_customer|\n",
      "+----------------+-------------+---------+--------------------------+\n",
      "|            2010|   1890156.31|     1130|                    1672.7|\n",
      "|            2011|   1921968.12|     1213|                   1584.47|\n",
      "|            2012|   2209445.78|     1232|                   1793.38|\n",
      "|            2013|   2828033.35|     1589|                   1779.76|\n",
      "+----------------+-------------+---------+--------------------------+\n",
      "\n"
     ]
    }
   ],
   "source": [
    "orders\\\n",
    ".join(\n",
    "    customers, \"customer_id\"\n",
    ").select(\n",
    "    \"customer_id\", \n",
    "    \"total_price\", \n",
    "    \"order_date\"\n",
    ").groupBy(\n",
    "    year(col(\"order_date\"))\n",
    ").agg(\n",
    "    round(sum(\"total_price\"), 2).alias(\"total_revenue\"), \n",
    "    countDistinct(\"customer_id\").alias(\"customers\"), \n",
    "    round((sum(\"total_price\") / countDistinct(\"customer_id\")), 2).alias(\"total_revenue_per_customer\")\n",
    ").orderBy(\n",
    "    asc(year(col(\"order_date\")))\n",
    ").show()"
   ]
  },
  {
   "cell_type": "markdown",
   "id": "cb5a5bbc",
   "metadata": {},
   "source": [
    "Revenue per customer has been increasing for different reasons except for 2011 \n",
    "* the customer are just increasing their spending with us \n",
    "* we acquired new high spending customers \n",
    "* we introduced products that were favoured by customers "
   ]
  },
  {
   "cell_type": "markdown",
   "id": "7f283264",
   "metadata": {},
   "source": [
    "#### How seasonal are my revenue and margin?"
   ]
  },
  {
   "cell_type": "code",
   "execution_count": 9,
   "id": "724ccbc1",
   "metadata": {},
   "outputs": [
    {
     "name": "stdout",
     "output_type": "stream",
     "text": [
      "+--------------+--------+-----------+----------+---------+------------+----------+----------+--------+----------+---------------+--------------+-------------+--------+-----------+---------+-------------+----------+-----------+\n",
      "|order_fact_key|order_id|customer_id|product_id|region_id|ship_mode_id|order_date| ship_date|discount|unit_price|discount_amount|discount_price|shipping_cost|quantity|total_price|is_return|order_quarter|order_year|order_month|\n",
      "+--------------+--------+-----------+----------+---------+------------+----------+----------+--------+----------+---------------+--------------+-------------+--------+-----------+---------+-------------+----------+-----------+\n",
      "|             1|   88525|          2|       179|        1|           3|2012-05-28|2012-05-30|    0.01|      2.88|           0.03|          2.85|          0.5|       2|        5.7|    false|            2|      2012|          5|\n",
      "|             2|   88522|          3|       924|     1659|           2|2010-07-07|2010-07-08|    0.01|      2.84|           0.03|          2.81|         0.93|       4|      11.24|    false|            3|      2010|          7|\n",
      "+--------------+--------+-----------+----------+---------+------------+----------+----------+--------+----------+---------------+--------------+-------------+--------+-----------+---------+-------------+----------+-----------+\n",
      "only showing top 2 rows\n",
      "\n"
     ]
    }
   ],
   "source": [
    "orders = orders \\\n",
    ".withColumn(\n",
    "    \"order_quarter\", quarter(col(\"order_date\")), \n",
    ").withColumn(\n",
    "    \"order_year\", year(col(\"order_date\"))\n",
    ").withColumn(\n",
    "    \"order_month\", month(col(\"order_date\"))\n",
    ")\n",
    "\n",
    "orders.show(2)"
   ]
  },
  {
   "cell_type": "code",
   "execution_count": 10,
   "id": "ed4571b3",
   "metadata": {},
   "outputs": [
    {
     "name": "stdout",
     "output_type": "stream",
     "text": [
      "+----------+-------------+-------------+----------+\n",
      "|order_year|order_quarter|total_revenue|growth_pct|\n",
      "+----------+-------------+-------------+----------+\n",
      "|      2010|            1|  $406,683.52|      0.0%|\n",
      "|      2010|            2|  $342,842.92|    -15.7%|\n",
      "|      2010|            3|  $460,035.27|    34.18%|\n",
      "|      2010|            4|  $680,594.60|    47.94%|\n",
      "|      2011|            1|  $265,598.30|   -60.98%|\n",
      "|      2011|            2|  $337,932.41|    27.23%|\n",
      "|      2011|            3|  $540,158.91|    59.84%|\n",
      "|      2011|            4|  $778,278.50|    44.08%|\n",
      "|      2012|            1|  $290,417.35|   -62.68%|\n",
      "|      2012|            2|  $429,894.96|    48.03%|\n",
      "|      2012|            3|  $497,909.34|    15.82%|\n",
      "|      2012|            4|  $991,224.13|    99.08%|\n",
      "|      2013|            1|  $532,774.77|   -46.25%|\n",
      "|      2013|            2|  $518,723.23|    -2.64%|\n",
      "|      2013|            3|  $718,206.97|    38.46%|\n",
      "|      2013|            4|$1,058,328.38|    47.36%|\n",
      "+----------+-------------+-------------+----------+\n",
      "\n"
     ]
    }
   ],
   "source": [
    "quarterly_revenue = orders.select(\n",
    "    \"total_price\", \n",
    "    \"order_quarter\", \n",
    "    \"order_year\"\n",
    ").groupBy(\n",
    "    \"order_year\", \"order_quarter\"\n",
    ").agg(\n",
    "    round(sum(\"total_price\"), 2).alias(\"total_revenue_raw\")\n",
    ").orderBy(\n",
    "    asc(\"order_year\"), \n",
    "    asc(\"order_quarter\")\n",
    ")\n",
    "\n",
    "window = Window.orderBy(\"order_year\", \"order_quarter\")\n",
    "quarterly_growth = quarterly_revenue.withColumn(\n",
    "    \"prev_quarter_revenue\", \n",
    "    lag(\"total_revenue_raw\").over(window)\n",
    ").withColumn(\n",
    "    \"revenue_growth_pct\", \n",
    "    when(\n",
    "        col(\"prev_quarter_revenue\").isNull(), \n",
    "        lit(0)\n",
    "    ).otherwise(\n",
    "        ((col(\"total_revenue_raw\") - col(\"prev_quarter_revenue\")) / col(\"prev_quarter_revenue\")) * 100\n",
    "    )\n",
    ")\n",
    "\n",
    "final_result = quarterly_growth.select(\n",
    "    \"order_year\",\n",
    "    \"order_quarter\",\n",
    "    concat(lit(\"$\"), format_number(\"total_revenue_raw\", 2)).alias(\"total_revenue\"),\n",
    "    concat(\n",
    "        round(\"revenue_growth_pct\", 2), \n",
    "        lit(\"%\")\n",
    "    ).alias(\"growth_pct\")\n",
    ").orderBy(\n",
    "    asc(\"order_year\"), \n",
    "    asc(\"order_quarter\")\n",
    ")\n",
    "\n",
    "final_result.show()"
   ]
  },
  {
   "cell_type": "markdown",
   "id": "5d259afb",
   "metadata": {},
   "source": [
    "Strong seasonality exists with Q4 being consistently the strongest quarter and Q1 being consistently the weakest with the exception of 2010. Every year, without fail, **Q4 emerges as the best**, delivering the highest revenue by a wide margin. The numbers don't lie, 2010 Q4: $680K -> 2013 Q4: $1.05 (a 55% increases in just 3 years) mostly likely due to holiday effect. After the Q4 high, Q1 stumbles a universal truth in retail. 2011 Q1: A dismal -61% drop from 2010 Q4. 2013 Q1: Despite being the strongest Q1 ($532K), it still fell -46% from the prior Q4.\n",
    "This isn’t just a dip it’s a systemic challenge. Customers tighten budgets after splurging in Q4."
   ]
  },
  {
   "cell_type": "markdown",
   "id": "71a375e2",
   "metadata": {},
   "source": [
    "#### Is most of my revenue coming from new or repeat buyers"
   ]
  },
  {
   "cell_type": "code",
   "execution_count": 11,
   "id": "32c38c4f",
   "metadata": {},
   "outputs": [
    {
     "name": "stdout",
     "output_type": "stream",
     "text": [
      "+----------+--------------------+------------------+--------------------------+------------------------+------------------+---------------------+----------------------+----------------------------+\n",
      "|order_year|new_customer_revenue|new_customer_count|returning_customer_revenue|returning_customer_count|     total_revenue|returning_revenue_pct|avg_new_customer_value|avg_returning_customer_value|\n",
      "+----------+--------------------+------------------+--------------------------+------------------------+------------------+---------------------+----------------------+----------------------------+\n",
      "|      2010|  1890156.3099999991|              1130|                      NULL|                    NULL|              NULL|                 NULL|    1672.7046991150435|                        NULL|\n",
      "|      2011|           912339.29|               714|        1009628.8299999993|                     499|1921968.1199999992|   52.530987350612236|    1277.7861204481794|          2023.3042685370726|\n",
      "|      2012|   534120.0400000005|               462|        1675325.7399999998|                     770|2209445.7800000003|     75.8256099862292|    1156.1039826839838|          2175.7477142857138|\n",
      "|      2013|           446286.63|               397|        2381746.7200000016|                    1192|2828033.3500000015|    84.21918786778099|    1124.1476826196474|          1998.1096644295314|\n",
      "+----------+--------------------+------------------+--------------------------+------------------------+------------------+---------------------+----------------------+----------------------------+\n",
      "\n"
     ]
    }
   ],
   "source": [
    "from pyspark.sql.functions import col, sum, asc\n",
    "\n",
    "# Calculate new customer revenue (first-time purchasers)\n",
    "new_customers_df = orders.join(\n",
    "    customers, \"customer_id\"\n",
    ").select(\n",
    "    \"customer_id\", \n",
    "    \"first_year\", \n",
    "    \"total_price\",\n",
    "    \"order_year\"\n",
    ").filter(\n",
    "    col(\"first_year\") == col(\"order_year\")\n",
    ").groupBy(\n",
    "    \"order_year\"\n",
    ").agg(\n",
    "    sum(\"total_price\").alias(\"new_customer_revenue\"),\n",
    "    countDistinct(\"customer_id\").alias(\"new_customer_count\")\n",
    ")\n",
    "\n",
    "# Calculate returning customer revenue\n",
    "old_customers_df = orders.join(\n",
    "    customers, \"customer_id\"\n",
    ").select(\n",
    "    \"customer_id\", \n",
    "    \"first_year\", \n",
    "    \"total_price\",\n",
    "    \"order_year\"\n",
    ").filter(\n",
    "    col(\"first_year\") < col(\"order_year\")\n",
    ").groupBy(\n",
    "    \"order_year\"\n",
    ").agg(\n",
    "    sum(\"total_price\").alias(\"returning_customer_revenue\"),\n",
    "    countDistinct(\"customer_id\").alias(\"returning_customer_count\")\n",
    ")\n",
    "\n",
    "# Join and calculate metrics\n",
    "cohort_analysis = new_customers_df.join(\n",
    "    old_customers_df, \"order_year\", \"outer\"\n",
    ").orderBy(asc(\"order_year\"))\n",
    "\n",
    "# Calculate percentages and averages\n",
    "cohort_analysis = cohort_analysis.withColumn(\n",
    "    \"total_revenue\",\n",
    "    col(\"new_customer_revenue\") + col(\"returning_customer_revenue\")\n",
    ").withColumn(\n",
    "    \"returning_revenue_pct\",\n",
    "    (col(\"returning_customer_revenue\") / col(\"total_revenue\")) * 100\n",
    ").withColumn(\n",
    "    \"avg_new_customer_value\",\n",
    "    col(\"new_customer_revenue\") / col(\"new_customer_count\")\n",
    ").withColumn(\n",
    "    \"avg_returning_customer_value\",\n",
    "    col(\"returning_customer_revenue\") / col(\"returning_customer_count\")\n",
    ")\n",
    "\n",
    "# Show comprehensive results\n",
    "cohort_analysis.show()"
   ]
  },
  {
   "cell_type": "markdown",
   "id": "447e20ba",
   "metadata": {},
   "source": [
    "#### What is my annual total number of orders of products shipped?   "
   ]
  },
  {
   "cell_type": "code",
   "execution_count": 12,
   "id": "89cd6b44",
   "metadata": {},
   "outputs": [
    {
     "name": "stdout",
     "output_type": "stream",
     "text": [
      "+----------+------------+---------------+-------------------+\n",
      "|order_year|no_of_orders|no_of_customers|orders_per_customer|\n",
      "+----------+------------+---------------+-------------------+\n",
      "|      2010|        1365|           1130|               1.21|\n",
      "|      2011|        1454|           1213|                1.2|\n",
      "|      2012|        1487|           1232|               1.21|\n",
      "|      2013|        2185|           1589|               1.38|\n",
      "+----------+------------+---------------+-------------------+\n",
      "\n"
     ]
    }
   ],
   "source": [
    "orders.select(\n",
    "    \"order_year\", \n",
    "    \"order_id\",\n",
    "    \"customer_id\"\n",
    ").groupBy(\n",
    "    \"order_year\"\n",
    ").agg(\n",
    "    countDistinct(\"order_id\").alias(\"no_of_orders\"),\n",
    "    countDistinct(\"customer_id\").alias(\"no_of_customers\")\n",
    ").withColumn(\n",
    "    \"orders_per_customer\", \n",
    "    round(col(\"no_of_orders\") / col(\"no_of_customers\"), 2)\n",
    ").orderBy(\n",
    "    \"order_year\"\n",
    ").show()"
   ]
  },
  {
   "cell_type": "markdown",
   "id": "45e9a881",
   "metadata": {},
   "source": [
    "#### What is the order value by month, do some months see larger deals"
   ]
  },
  {
   "cell_type": "code",
   "execution_count": 13,
   "id": "527e161a",
   "metadata": {},
   "outputs": [
    {
     "name": "stdout",
     "output_type": "stream",
     "text": [
      "+----------+-----------+------------------+------------+-----------+----------+\n",
      "|order_year|order_month|     total_revenue|no_of_orders|order_value|year-month|\n",
      "+----------+-----------+------------------+------------+-----------+----------+\n",
      "|      2010|          1|         135440.93|         128|    1058.13|    2010-1|\n",
      "|      2010|          2|128778.31000000001|         100|    1287.78|    2010-2|\n",
      "|      2010|          3|142464.27999999997|         126|    1130.67|    2010-3|\n",
      "|      2010|          4|127861.10999999997|         120|    1065.51|    2010-4|\n",
      "|      2010|          5| 91282.94999999998|         113|     807.81|    2010-5|\n",
      "|      2010|          6|123698.85999999999|         102|    1212.73|    2010-6|\n",
      "|      2010|          7|133564.68999999997|         121|    1103.84|    2010-7|\n",
      "|      2010|          8|199986.27999999997|         125|    1599.89|    2010-8|\n",
      "|      2010|          9|126484.29999999996|         111|     1139.5|    2010-9|\n",
      "|      2010|         10|253669.97999999995|         100|     2536.7|   2010-10|\n",
      "|      2010|         11|207547.53000000003|         106|     1958.0|   2010-11|\n",
      "|      2010|         12|219377.09000000014|         113|    1941.39|   2010-12|\n",
      "|      2011|          1|113273.94000000003|         113|    1002.42|    2011-1|\n",
      "|      2011|          2| 94595.61999999998|         117|     808.51|    2011-2|\n",
      "|      2011|          3|          57728.74|         111|     520.08|    2011-3|\n",
      "|      2011|          4| 73059.53000000001|          98|     745.51|    2011-4|\n",
      "|      2011|          5|         148903.85|         133|    1119.58|    2011-5|\n",
      "|      2011|          6|         115969.03|         110|    1054.26|    2011-6|\n",
      "|      2011|          7|117054.53000000001|         116|    1009.09|    2011-7|\n",
      "|      2011|          8|114995.47999999998|         131|     877.83|    2011-8|\n",
      "+----------+-----------+------------------+------------+-----------+----------+\n",
      "only showing top 20 rows\n",
      "\n"
     ]
    }
   ],
   "source": [
    "order_value = orders.select(\n",
    "    \"order_id\",\n",
    "    \"order_month\",\n",
    "    \"order_year\", \n",
    "    \"total_price\"\n",
    ").groupBy(\n",
    "    \"order_year\", \n",
    "    \"order_month\"\n",
    ").agg(\n",
    "    sum(\"total_price\").alias(\"total_revenue\"), \n",
    "    countDistinct(\"order_id\").alias(\"no_of_orders\"),\n",
    ").withColumn(\n",
    "    \"order_value\", \n",
    "    round(col(\"total_revenue\") / col(\"no_of_orders\"), 2)\n",
    ").withColumn(\n",
    "    \"year-month\", \n",
    "    concat(col(\"order_year\"), lit(\"-\"), col(\"order_month\"))\n",
    ").orderBy(\n",
    "    asc(\"order_year\"), \n",
    "    asc(\"order_month\")\n",
    ")\n",
    "\n",
    "order_value.show()"
   ]
  },
  {
   "cell_type": "code",
   "execution_count": 14,
   "id": "ee63beca",
   "metadata": {},
   "outputs": [],
   "source": [
    "order_value_pd = order_value.toPandas()\n",
    "\n",
    "order_value_pd['date'] = pd.to_datetime(\n",
    "    order_value_pd['order_year'].astype(str) + '-' + \n",
    "    order_value_pd['order_month'].astype(str), \n",
    "    format='%Y-%m'\n",
    ")\n",
    "\n",
    "order_value_pd = order_value_pd.sort_values('date')"
   ]
  },
  {
   "cell_type": "code",
   "execution_count": 15,
   "id": "78208d83",
   "metadata": {},
   "outputs": [
    {
     "data": {
      "image/png": "[encoded data removed]",
      "text/plain": [
       "<Figure size 1400x700 with 1 Axes>"
      ]
     },
     "metadata": {},
     "output_type": "display_data"
    }
   ],
   "source": [
    "# Create the plot\n",
    "plt.figure(figsize=(14, 7))\n",
    "ax = sns.barplot(\n",
    "    data=order_value_pd,\n",
    "    x=\"year-month\",\n",
    "    y=\"order_value\",\n",
    "    hue=\"order_month\",  \n",
    "    palette=\"Spectral\", \n",
    "    dodge=False, \n",
    "    legend=False\n",
    ")\n",
    "\n",
    "# Customize the plot\n",
    "plt.title(\"Average Order Value by Month (with Trendline)\", fontsize=16, pad=20)\n",
    "plt.xlabel(\"Month\", fontsize=14)\n",
    "plt.ylabel(\"Avg. Order Value ($)\", fontsize=14)\n",
    "plt.xticks(rotation=45, ha='right')  # Rotate x-labels for readability\n",
    "\n",
    "# Add a trendline\n",
    "x_numeric = pd.factorize(order_value_pd['year-month'])[0]\n",
    "sns.regplot(\n",
    "    x=x_numeric,\n",
    "    y=order_value_pd['order_value'],\n",
    "    scatter=False,\n",
    "    color='black',\n",
    "    line_kws={'linestyle': '--', 'alpha': 0.5},\n",
    "    ax=ax\n",
    ")\n",
    "\n",
    "plt.grid(axis='y', alpha=0.3)\n",
    "plt.tight_layout()\n",
    "plt.show()"
   ]
  },
  {
   "cell_type": "markdown",
   "id": "c453114f",
   "metadata": {},
   "source": [
    "### What is my annual average order value and how is it trending over time?"
   ]
  },
  {
   "cell_type": "code",
   "execution_count": 16,
   "id": "cdd28884",
   "metadata": {},
   "outputs": [
    {
     "name": "stdout",
     "output_type": "stream",
     "text": [
      "+----------+------------------+------------+-----------+\n",
      "|order_year|     total_revenue|no_of_orders|order_value|\n",
      "+----------+------------------+------------+-----------+\n",
      "|      2010|1890156.3099999996|        1365|    1384.73|\n",
      "|      2011|1921968.1200000024|        1454|    1321.85|\n",
      "|      2012|2209445.7799999984|        1487|    1485.84|\n",
      "|      2013| 2828033.350000003|        2185|    1294.29|\n",
      "+----------+------------------+------------+-----------+\n",
      "\n"
     ]
    }
   ],
   "source": [
    "order_value = orders.select(\n",
    "    \"order_id\",\n",
    "    \"order_year\", \n",
    "    \"total_price\"\n",
    ").groupBy(\n",
    "    \"order_year\", \n",
    ").agg(\n",
    "    sum(\"total_price\").alias(\"total_revenue\"), \n",
    "    countDistinct(\"order_id\").alias(\"no_of_orders\")\n",
    ").withColumn(\n",
    "    \"order_value\", \n",
    "    round(col(\"total_revenue\") / col(\"no_of_orders\"), 2)\n",
    ").orderBy(\n",
    "    asc(\"order_year\"), \n",
    ")\n",
    "\n",
    "order_value.show()"
   ]
  },
  {
   "cell_type": "code",
   "execution_count": 17,
   "id": "d82e0711",
   "metadata": {},
   "outputs": [
    {
     "name": "stdout",
     "output_type": "stream",
     "text": [
      "+---------+-------+--------------------+-------------+-----------+-------------+---------------+--------------------+------------+-----------+-----------+---------------+\n",
      "|region_id| region|   state_or_province|         city|postal_code|total_revenue|total_customers|revenue_per_customer|total_orders|order_value|return_rate|avg_order_value|\n",
      "+---------+-------+--------------------+-------------+-----------+-------------+---------------+--------------------+------------+-----------+-----------+---------------+\n",
      "|      535|   East|District of Columbia|   Washington|      20012|     78561.71|              1|            78561.71|           4|       NULL|       25.0|       19640.43|\n",
      "|     1468|   West|          California|  Los Angeles|      90061|    121549.21|              1|           121549.21|           8|       NULL|       50.0|       15193.65|\n",
      "|      884|   East|            New York|New York City|      10165|     84693.31|              1|            84693.31|           6|       NULL|      33.33|       14115.55|\n",
      "|     1696|   West|          Washington|      Seattle|      98144|     52614.32|              1|            52614.32|           4|       NULL|       50.0|       13153.58|\n",
      "|     1142|  South|             Florida|        Miami|      33178|     50299.23|              1|            50299.23|           4|       NULL|        0.0|       12574.81|\n",
      "|      185|Central|            Michigan|      Detroit|      48205|     54190.08|              1|            54190.08|           6|       NULL|      16.67|        9031.68|\n",
      "|     1461|   West|          California|  Los Angeles|      90008|     84524.14|              1|            84524.14|          11|       NULL|      18.18|        7684.01|\n",
      "|     1024|   East|        Rhode Island|   Barrington|       2806|       7632.9|              1|              7632.9|           1|       NULL|        0.0|         7632.9|\n",
      "|     1140|  South|             Florida|        Miami|      33132|     67212.46|              2|            33606.23|           9|       NULL|      22.22|        7468.05|\n",
      "|     1008|   East|        Pennsylvania| Philadelphia|      19140|     42470.09|              1|            42470.09|           6|       NULL|     116.67|        7078.35|\n",
      "|     1137|  South|             Florida|      Margate|      33063|     20936.73|              1|            20936.73|           3|       NULL|        0.0|        6978.91|\n",
      "|     1462|   West|          California|  Los Angeles|      90032|      33699.6|              2|             16849.8|           5|       NULL|        0.0|        6739.92|\n",
      "|      635|   East|       Massachusetts|   Framingham|       1701|      6660.03|              1|             6660.03|           1|       NULL|        0.0|        6660.03|\n",
      "|       23|Central|            Illinois|      Chicago|      60699|     46533.02|              1|            46533.02|           7|       NULL|      28.57|        6647.57|\n",
      "|     1405|   West|             Arizona|         Yuma|      85364|     19747.63|              1|            19747.63|           3|       NULL|        0.0|        6582.54|\n",
      "|     1695|   West|          Washington|      Seattle|      98119|    104407.38|              2|            52203.69|          16|       NULL|       12.5|        6525.46|\n",
      "|      696|   East|       Massachusetts| South Hadley|       1075|     12679.71|              1|            12679.71|           2|       NULL|        0.0|        6339.86|\n",
      "|      440|Central|               Texas|        Tyler|      75701|     12497.68|              1|            12497.68|           2|       NULL|        0.0|        6248.84|\n",
      "|     1511|   West|          California|San Francisco|      94109|      18413.2|              1|             18413.2|           3|       NULL|        0.0|        6137.73|\n",
      "|      362|Central|               Texas|       Dallas|      75203|     30653.39|              1|            30653.39|           5|       NULL|        0.0|        6130.68|\n",
      "+---------+-------+--------------------+-------------+-----------+-------------+---------------+--------------------+------------+-----------+-----------+---------------+\n",
      "only showing top 20 rows\n",
      "\n"
     ]
    }
   ],
   "source": [
    "region.orderBy(desc(\"avg_order_value\")).show()"
   ]
  },
  {
   "cell_type": "markdown",
   "id": "fe65493f",
   "metadata": {},
   "source": [
    "* Washington, DC ($19,640) with only 4 orders, suggesting premium purchases. \n",
    "* West vs. East Dominance: 3 of the top 5 cities are from the West/East regions."
   ]
  },
  {
   "cell_type": "markdown",
   "id": "4ef53ccf",
   "metadata": {},
   "source": []
  },
  {
   "cell_type": "code",
   "execution_count": null,
   "id": "0c473009",
   "metadata": {},
   "outputs": [
    {
     "name": "stdout",
     "output_type": "stream",
     "text": [
      "+----------------+----------+---------------+------------------+-----------+\n",
      "|product_category|order_year|no_of_customers|     total_revenue|order_value|\n",
      "+----------------+----------+---------------+------------------+-----------+\n",
      "|       Furniture|      2010|            348| 632110.3700000002|    1816.41|\n",
      "|       Furniture|      2011|            379| 661434.8799999994|    1745.21|\n",
      "|       Furniture|      2012|            392| 921793.6800000004|    2351.51|\n",
      "|       Furniture|      2013|            523|         873347.47|    1669.88|\n",
      "| Office Supplies|      2010|            768| 527871.4799999997|     687.33|\n",
      "| Office Supplies|      2011|            828| 419013.5900000001|     506.06|\n",
      "| Office Supplies|      2012|            852|497025.13000000035|     583.36|\n",
      "| Office Supplies|      2013|           1122| 712307.2800000004|     634.85|\n",
      "|      Technology|      2010|            417| 730174.4600000007|    1751.02|\n",
      "|      Technology|      2011|            464| 841519.6500000005|    1813.62|\n",
      "|      Technology|      2012|            450| 790626.9700000007|    1756.95|\n",
      "|      Technology|      2013|            628|1242378.6000000006|    1978.31|\n",
      "+----------------+----------+---------------+------------------+-----------+\n",
      "\n"
     ]
    }
   ],
   "source": [
    "orders.join(\n",
    "    product, \n",
    "    \"product_id\"\n",
    ").select(\n",
    "    \"customer_id\", \n",
    "    \"product_id\", \n",
    "    \"product_category\", \n",
    "    \"total_price\", \n",
    "    \"order_year\"\n",
    ").groupBy(\n",
    "    \"product_category\", \n",
    "    \"order_year\"\n",
    ").agg(\n",
    "    countDistinct(\"customer_id\").alias(\"no_of_customers\"), \n",
    "    sum(\"total_price\").alias(\"total_revenue\")\n",
    ").withColumn(\n",
    "    \"order_value\", \n",
    "    round(col(\"total_revenue\") / col(\"no_of_customers\"), 2)\n",
    ").orderBy(\n",
    "    asc(\"product_category\"),\n",
    "    asc(\"order_year\")\n",
    ").show()"
   ]
  },
  {
   "cell_type": "markdown",
   "id": "65342cdb",
   "metadata": {},
   "source": [
    "#### **Furniture**\n",
    "\n",
    "* Steady increase in the number of customers, with a notable jump in 2013 (523 vs. 392 in 2012).\n",
    "* However, **average order value (AOV)** dropped significantly in 2013 to **\\$1,669.88**, the lowest across all years for this category.\n",
    "* This divergence suggests a **potential shift to budget-friendly furniture** or **increased promotional discounting** in 2013.\n",
    "* **Action:** Investigate product mix changes and marketing strategies in 2013. Analyze whether the volume growth was driven by lower-margin products.\n",
    "\n",
    "#### **Office Supplies**\n",
    "\n",
    "* Strong and **steady customer base growth**, peaking at 1,122 in 2013.\n",
    "* Despite this, **total revenue declined** from 2010 to 2011 and then rebounded—indicating inconsistent revenue generation relative to customer growth.\n",
    "* The **2010 cohort had the highest AOV at \\$687.33**, suggesting **high-value customers** early on.\n",
    "* AOV dropped in 2011 and remained lower, possibly due to:\n",
    "\n",
    "  * Loss of large customers.\n",
    "  * A shift toward **lower-priced or commoditized items**.\n",
    "* **Action:**\n",
    "\n",
    "  * Re-engage top customers from 2010.\n",
    "  * Analyze whether **cheaper SKUs dominated sales** post-2010.\n",
    "  * Understand what changed in 2011 to better retain premium accounts.\n",
    "\n",
    "#### **Technology**\n",
    "\n",
    "* Consistent growth in customers (from 417 in 2010 to 628 in 2013), though **2012 dipped slightly** to 450.\n",
    "* This category shows the **highest revenue per customer**:\n",
    "\n",
    "  * 2013 saw a **70% revenue jump to \\$1.24M**, with an **AOV of \\$1,978.31** —the **highest among all** entries with the exception of (Furniture 2012)\n",
    "* Indicates a **premium, high-margin product base**.\n",
    "* **Action:**\n",
    "\n",
    "  * Analyze what drove the 2013 surge (new product lines, marketing push?).\n",
    "  * Leverage success by **upselling warranties, accessories**, and **post-sale services**.\n",
    "  * Use insights to replicate success in slower years (e.g., 2012).\n",
    "\n",
    "### **General Insights**\n",
    "\n",
    "* **Office Supplies** had the most customers but also the lowest AOV, which aligns with its **commodity-like nature**.\n",
    "* **Technology** outperforms in revenue despite a smaller customer base due to **high-ticket products**.\n",
    "* **Furniture** had an **inconsistent AOV trend**, which may need closer review of product and pricing strategies.\n",
    "\n",
    "\n"
   ]
  },
  {
   "cell_type": "code",
   "execution_count": 27,
   "id": "1de5ccc9",
   "metadata": {},
   "outputs": [
    {
     "name": "stdout",
     "output_type": "stream",
     "text": [
      "Customers with 0% discounts: 78 (2.89% of total)\n"
     ]
    }
   ],
   "source": [
    "# Filter customers with avg_discount_rate = 0 and count them\n",
    "zero_discount_customers = customers.filter(col(\"avg_discount_rate\") == 0)\n",
    "zero_discount_count = zero_discount_customers.count()\n",
    "\n",
    "# Get total customer count for comparison\n",
    "total_customers = customers.count()\n",
    "\n",
    "# Calculate percentage\n",
    "percentage_zero_discount = (zero_discount_count / total_customers) * 100\n",
    "\n",
    "print(f\"Customers with 0% discounts: {zero_discount_count} ({percentage_zero_discount:.2f}% of total)\")"
   ]
  },
  {
   "cell_type": "code",
   "execution_count": 32,
   "id": "b09b8a00",
   "metadata": {},
   "outputs": [
    {
     "name": "stdout",
     "output_type": "stream",
     "text": [
      "Repeat customers: 1676 (62.01% of total)\n"
     ]
    }
   ],
   "source": [
    "frequent_buyers = customers.filter(col(\"customer_is_repeat\") == True)\n",
    "print(f\"Repeat customers: {frequent_buyers.count()} ({(frequent_buyers.count() / total_customers) * 100:.2f}% of total)\")"
   ]
  }
 ],
 "metadata": {
  "kernelspec": {
   "display_name": "base",
   "language": "python",
   "name": "python3"
  },
  "language_info": {
   "codemirror_mode": {
    "name": "ipython",
    "version": 3
   },
   "file_extension": ".py",
   "mimetype": "text/x-python",
   "name": "python",
   "nbconvert_exporter": "python",
   "pygments_lexer": "ipython3",
   "version": "3.12.7"
  }
 },
 "nbformat": 4,
 "nbformat_minor": 5
}
