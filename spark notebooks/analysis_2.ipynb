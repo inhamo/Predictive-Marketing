{
 "cells": [
  {
   "cell_type": "code",
   "execution_count": 19,
   "id": "26af751e",
   "metadata": {},
   "outputs": [],
   "source": [
    "import findspark\n",
    "from pyspark.sql import SparkSession, Window\n",
    "from pyspark.sql import functions as f\n",
    "from functools import reduce\n",
    "\n",
    "import pandas as pd\n",
    "import numpy as np \n",
    "import matplotlib.pyplot as plt \n",
    "import seaborn as sns \n",
    "import warnings\n",
    "\n",
    "warnings.filterwarnings(\"ignore\")"
   ]
  },
  {
   "cell_type": "code",
   "execution_count": 11,
   "id": "0e6807ba",
   "metadata": {},
   "outputs": [],
   "source": [
    "findspark.init()\n",
    "\n",
    "spark = SparkSession.builder \\\n",
    "    .appName(\"Analysis 2\") \\\n",
    "    .config(\"spark.driver.memory\", \"2g\") \\\n",
    "    .config(\"spark.executor.memory\", \"2g\") \\\n",
    "    .config(\"spark.driver.extraClassPath\", r\"C:\\Drivers\\sqljdbc_12.10.0.0_enu\\sqljdbc_12.10\\enu\\jars\\mssql-jdbc-12.10.0.jre11.jar\") \\\n",
    "    .getOrCreate()\n",
    "\n",
    "# Read CSV\n",
    "customers = spark.read.csv(\"../final data/customer_features.csv\", header=True, inferSchema=True)\n",
    "orders = spark.read.csv(\"../final data/orders_facts.csv\", header=True, inferSchema =True)"
   ]
  },
  {
   "cell_type": "code",
   "execution_count": 12,
   "id": "642228eb",
   "metadata": {},
   "outputs": [],
   "source": [
    "orders = orders \\\n",
    "    .withColumn(\n",
    "        \"order_year\", f.year(f.col(\"order_date\"))\n",
    "    ).withColumn(\n",
    "        \"order_month\", f.month(f.col(\"order_date\"))\n",
    "    )"
   ]
  },
  {
   "cell_type": "markdown",
   "id": "3a4fd0eb",
   "metadata": {},
   "source": [
    "# Customer Lifetime Value\n",
    "\n",
    "Customer lifetime value is a term that describes how much revenue or profit you can expect from customers over their lifetime doing business with you.\n",
    "\n",
    "* Historical Lifetime value \n",
    "    - actual profits less costs so far adjusted by subtracting acquisition costs of those customers. (Only past purchases). If the customer's historical lifetime value is trending down, this is called value migration, and this can be an early warning signal of customers unsubscribing from your service or planning to stop buying. Beyond value migration, customers may be changing their spending habits in other important ways. A certain customer may have made only one big purchase last year, but this year they are making smaller purchases more often. While the customer lifetime value of this person has not changed, your marketing approach and goals for the person should change. (Predictive Marketing Easy Ways every marketer can use customer analytics and big data)"
   ]
  },
  {
   "cell_type": "code",
   "execution_count": 23,
   "id": "8c26c3d8",
   "metadata": {},
   "outputs": [
    {
     "name": "stdout",
     "output_type": "stream",
     "text": [
      "+-----------+------------+------------+------------+------------+-----------------+-----------------+-----------------+-----------------+----------------+----------------+----------------+----------------+\n",
      "|customer_id|2010_revenue|2011_revenue|2012_revenue|2013_revenue|no_of_orders_2010|no_of_orders_2011|no_of_orders_2012|no_of_orders_2013|order_value_2010|order_value_2011|order_value_2012|order_value_2013|\n",
      "+-----------+------------+------------+------------+------------+-----------------+-----------------+-----------------+-----------------+----------------+----------------+----------------+----------------+\n",
      "|          2|        NULL|        NULL|         6.0|        NULL|             NULL|             NULL|                1|             NULL|            NULL|            NULL|             6.0|            NULL|\n",
      "|          3|        11.0|      3601.0|        NULL|      1335.0|                1|                2|             NULL|                1|            11.0|          1801.0|            NULL|          1335.0|\n",
      "|          5|      5892.0|        NULL|       107.0|        NULL|                1|             NULL|                1|             NULL|          5892.0|            NULL|           107.0|            NULL|\n",
      "|          6|        NULL|      1429.0|      1963.0|        NULL|             NULL|                1|                1|             NULL|            NULL|          1429.0|          1963.0|            NULL|\n",
      "|          7|        NULL|        NULL|       222.0|        NULL|             NULL|             NULL|                1|             NULL|            NULL|            NULL|           222.0|            NULL|\n",
      "|          8|        NULL|        NULL|       649.0|        NULL|             NULL|             NULL|                1|             NULL|            NULL|            NULL|           649.0|            NULL|\n",
      "|          9|        NULL|        NULL|      2065.0|        NULL|             NULL|             NULL|                1|             NULL|            NULL|            NULL|          2065.0|            NULL|\n",
      "|         10|        NULL|       205.0|        NULL|        NULL|             NULL|                1|             NULL|             NULL|            NULL|           205.0|            NULL|            NULL|\n",
      "|         11|       196.0|        NULL|        NULL|        NULL|                1|             NULL|             NULL|             NULL|           196.0|            NULL|            NULL|            NULL|\n",
      "|         12|        NULL|        NULL|        84.0|        NULL|             NULL|             NULL|                1|             NULL|            NULL|            NULL|            84.0|            NULL|\n",
      "|         14|      1193.0|        NULL|        NULL|        26.0|                1|             NULL|             NULL|                1|          1193.0|            NULL|            NULL|            26.0|\n",
      "|         15|       387.0|        17.0|        17.0|        65.0|                2|                1|                1|                2|           194.0|            17.0|            17.0|            33.0|\n",
      "|         16|      1119.0|        NULL|        NULL|        39.0|                1|             NULL|             NULL|                1|          1119.0|            NULL|            NULL|            39.0|\n",
      "|         17|        NULL|        11.0|        30.0|        NULL|             NULL|                1|                1|             NULL|            NULL|            11.0|            30.0|            NULL|\n",
      "|         18|       428.0|        NULL|       660.0|      2663.0|                1|             NULL|                1|                2|           428.0|            NULL|           660.0|          1332.0|\n",
      "|         19|       217.0|        NULL|        NULL|        NULL|                1|             NULL|             NULL|             NULL|           217.0|            NULL|            NULL|            NULL|\n",
      "|         20|        NULL|        NULL|       805.0|        31.0|             NULL|             NULL|                1|                1|            NULL|            NULL|           805.0|            31.0|\n",
      "|         21|      2886.0|        81.0|      5889.0|     10402.0|                2|                2|                3|                1|          1443.0|            41.0|          1963.0|         10402.0|\n",
      "|         23|        NULL|      1637.0|       149.0|      1446.0|             NULL|                1|                1|                1|            NULL|          1637.0|           149.0|          1446.0|\n",
      "|         24|        54.0|        NULL|      2591.0|        87.0|                1|             NULL|                2|                1|            54.0|            NULL|          1296.0|            87.0|\n",
      "+-----------+------------+------------+------------+------------+-----------------+-----------------+-----------------+-----------------+----------------+----------------+----------------+----------------+\n",
      "only showing top 20 rows\n",
      "\n"
     ]
    }
   ],
   "source": [
    "# Get unique years in sorted order\n",
    "years = sorted(set(row['order_year'] for row in orders.select(\"order_year\").collect()))\n",
    "\n",
    "# Build yearly CLV DataFrames\n",
    "yearly_clv_dfs = []\n",
    "\n",
    "for year in years:\n",
    "    yearly_df = orders.filter(\n",
    "        f.col(\"order_year\") == year\n",
    "    ).groupBy(\n",
    "        \"customer_id\"\n",
    "    ).agg(\n",
    "        f.round(f.sum(\"total_price\")).alias(f\"{year}_revenue\"), \n",
    "        f.countDistinct(\"order_id\").alias(f\"no_of_orders_{year}\")\n",
    "    ).withColumn(\n",
    "        f\"order_value_{year}\", \n",
    "        f.round(f.col(f\"{year}_revenue\") / f.col(f\"no_of_orders_{year}\"))\n",
    "    )\n",
    "    \n",
    "    yearly_clv_dfs.append(yearly_df)\n",
    "\n",
    "# Join all yearly DataFrames\n",
    "customer_clv = reduce(lambda df1, df2: df1.join(df2, on=\"customer_id\", how=\"outer\"), yearly_clv_dfs)\n",
    "\n",
    "# Build column order: group by metric\n",
    "revenue_cols = [f\"{year}_revenue\" for year in years]\n",
    "orders_cols = [f\"no_of_orders_{year}\" for year in years]\n",
    "value_cols = [f\"order_value_{year}\" for year in years]\n",
    "\n",
    "# Final column order\n",
    "final_columns = [\"customer_id\"] + revenue_cols + orders_cols + value_cols\n",
    "\n",
    "# Reorder columns\n",
    "customer_clv = customer_clv.select(*final_columns)\n",
    "\n",
    "customer_clv.show()\n"
   ]
  },
  {
   "cell_type": "code",
   "execution_count": 29,
   "id": "c6a52578",
   "metadata": {},
   "outputs": [
    {
     "name": "stdout",
     "output_type": "stream",
     "text": [
      "+-----------+------------+------------+--------------------+--------------+\n",
      "|customer_id|2012_revenue|2013_revenue|value_migration_flag|customer_group|\n",
      "+-----------+------------+------------+--------------------+--------------+\n",
      "|          2|         6.0|        NULL|                   1|           B2B|\n",
      "|          3|        NULL|      1335.0|                   0|           B2B|\n",
      "|          5|       107.0|        NULL|                   1|           B2C|\n",
      "|          6|      1963.0|        NULL|                   1|           B2C|\n",
      "|          7|       222.0|        NULL|                   1|           B2C|\n",
      "|          8|       649.0|        NULL|                   1|           B2C|\n",
      "|          9|      2065.0|        NULL|                   1|           B2C|\n",
      "|         10|        NULL|        NULL|                   0|           B2C|\n",
      "|         11|        NULL|        NULL|                   0|           B2C|\n",
      "|         12|        84.0|        NULL|                   1|           B2C|\n",
      "|         14|        NULL|        26.0|                   0|           B2B|\n",
      "|         15|        17.0|        65.0|                   0|           B2B|\n",
      "|         16|        NULL|        39.0|                   0|           B2B|\n",
      "|         17|        30.0|        NULL|                   1|           B2B|\n",
      "|         18|       660.0|      2663.0|                   0|           B2B|\n",
      "|         19|        NULL|        NULL|                   0|           B2B|\n",
      "|         20|       805.0|        31.0|                   1|           B2B|\n",
      "|         21|      5889.0|     10402.0|                   0|           B2B|\n",
      "|         23|       149.0|      1446.0|                   0|           B2B|\n",
      "|         24|      2591.0|        87.0|                   1|           B2B|\n",
      "+-----------+------------+------------+--------------------+--------------+\n",
      "only showing top 20 rows\n",
      "\n"
     ]
    }
   ],
   "source": [
    "customer_df = spark.read.csv(\"../final data/customer_dim.csv\", header=True, inferSchema=True)\n",
    "\n",
    "if len(years) >= 2:\n",
    "    last_year = years[-1]\n",
    "    prev_year = years[-2]\n",
    "\n",
    "    customer_clv_filled = customer_clv.withColumn(\n",
    "        \"value_migration_flag\",\n",
    "        f.when(\n",
    "            f.coalesce(f.col(f\"{last_year}_revenue\"), f.lit(0)) < f.coalesce(f.col(f\"{prev_year}_revenue\"), f.lit(0)),\n",
    "            1\n",
    "        ).otherwise(0)\n",
    "    )\n",
    "\n",
    "    customer_clv_filled.select(\n",
    "        \"customer_id\",\n",
    "        f.col(f\"{prev_year}_revenue\"),\n",
    "        f.col(f\"{last_year}_revenue\"),\n",
    "        \"value_migration_flag\"\n",
    "    ).join(\n",
    "        customer_df.select(\"customer_id\", \"customer_group\").filter(f.col(\"is_current\") == True), \n",
    "        \"customer_id\"\n",
    "    ).show()\n"
   ]
  }
 ],
 "metadata": {
  "kernelspec": {
   "display_name": "base",
   "language": "python",
   "name": "python3"
  },
  "language_info": {
   "codemirror_mode": {
    "name": "ipython",
    "version": 3
   },
   "file_extension": ".py",
   "mimetype": "text/x-python",
   "name": "python",
   "nbconvert_exporter": "python",
   "pygments_lexer": "ipython3",
   "version": "3.12.7"
  }
 },
 "nbformat": 4,
 "nbformat_minor": 5
}
