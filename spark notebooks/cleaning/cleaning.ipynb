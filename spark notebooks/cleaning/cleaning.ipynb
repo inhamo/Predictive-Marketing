{
 "cells": [
  {
   "cell_type": "code",
   "execution_count": 1,
   "id": "bbd1ca23",
   "metadata": {},
   "outputs": [
    {
     "data": {
      "text/plain": [
       "True"
      ]
     },
     "execution_count": 1,
     "metadata": {},
     "output_type": "execute_result"
    }
   ],
   "source": [
    "import findspark\n",
    "from pyspark.sql import SparkSession\n",
    "import os\n",
    "from dotenv import load_dotenv\n",
    "from pyspark.sql.functions import to_date\n",
    "\n",
    "load_dotenv()"
   ]
  },
  {
   "cell_type": "code",
   "execution_count": null,
   "id": "e6e20c6f",
   "metadata": {},
   "outputs": [
    {
     "name": "stdout",
     "output_type": "stream",
     "text": [
      "Order ID,Customer ID,Customer Name,Region,State or Province,City,Postal Code,Customer Segment,Order Priority,Ship Mode,Product Category,Product Sub-Category,Product Container,Product Name,Order Date,Ship Date,Discount,Unit Price,Discount Amount,Discount Price,Shipping Cost,Quantity\n",
      "\n",
      "88525,2,Janice Fletcher,Central,Illinois,Addison,60101,Corporate,Not Specified,Regular Air,Office Supplies,Labels,Small Box,Avery 49,5/28/2012,5/30/2012,0.01,2.88,0.03,2.85,0.5,2\n",
      "\n",
      "88522,3,Bonnie Potter,West,Washington,Anacortes,98221,Corporate,High,Express Air,Office Supplies,Pens & Art Supplies,Wrap Bag,SANFORD Liquid Accent™ Tank-Style Highlighters,7/7/2010,7/8/2010,0.01,2.84,0.03,2.81,0.93,4\n",
      "\n",
      "88523,3,Bonnie Potter,West,Washington,Anacortes,98221,Corporate,Not Specified,Express Air,Office Supplies,Paper,Small Box,Xerox 1968,7/27/2011,7/28/2011,0.03,6.68,0.20,6.48,6.15,7\n",
      "\n",
      "88523,3,Bonnie Potter,West,Washington,Anacortes,98221,Corporate,Not Specified,Regular Air,Office Supplies,\"Scissors, Rulers and Trimmers\",Small Pack,Acme® Preferred Stainless Steel Scissors,7/27/2011,7/28/2011,0.01,5.68,0.06,5.62,3.6,7\n",
      "\n"
     ]
    }
   ],
   "source": [
    "# Check if the data is comma or | seperated \n",
    "with open(\"../../raw data/Sample Superstore - Orders.csv\", \"r\", encoding=\"cp1252\") as f:\n",
    "    for _ in range(5):\n",
    "        print(f.readline())"
   ]
  },
  {
   "cell_type": "code",
   "execution_count": null,
   "id": "aeac79e5",
   "metadata": {},
   "outputs": [
    {
     "data": {
      "text/html": [
       "<table border='1'>\n",
       "<tr><th>Order ID</th><th>Customer ID</th><th>Customer Name</th><th>Region</th><th>State or Province</th><th>City</th><th>Postal Code</th><th>Customer Segment</th><th>Order Priority</th><th>Ship Mode</th><th>Product Category</th><th>Product Sub-Category</th><th>Product Container</th><th>Product Name</th><th>Order Date</th><th>Ship Date</th><th>Discount</th><th>Unit Price</th><th>Discount Amount</th><th>Discount Price</th><th>Shipping Cost</th><th>Quantity</th></tr>\n",
       "<tr><td>88525</td><td>2</td><td>Janice Fletcher</td><td>Central</td><td>Illinois</td><td>Addison</td><td>60101</td><td>Corporate</td><td>Not Specified</td><td>Regular Air</td><td>Office Supplies</td><td>Labels</td><td>Small Box</td><td>Avery 49</td><td>5/28/2012</td><td>5/30/2012</td><td>0.01</td><td>2.88</td><td>0.03</td><td>2.85</td><td>0.5</td><td>2</td></tr>\n",
       "<tr><td>88522</td><td>3</td><td>Bonnie Potter</td><td>West</td><td>Washington</td><td>Anacortes</td><td>98221</td><td>Corporate</td><td>High</td><td>Express Air</td><td>Office Supplies</td><td>Pens &amp; Art Supplies</td><td>Wrap Bag</td><td>SANFORD Liquid Ac...</td><td>7/7/2010</td><td>7/8/2010</td><td>0.01</td><td>2.84</td><td>0.03</td><td>2.81</td><td>0.93</td><td>4</td></tr>\n",
       "<tr><td>88523</td><td>3</td><td>Bonnie Potter</td><td>West</td><td>Washington</td><td>Anacortes</td><td>98221</td><td>Corporate</td><td>Not Specified</td><td>Express Air</td><td>Office Supplies</td><td>Paper</td><td>Small Box</td><td>Xerox 1968</td><td>7/27/2011</td><td>7/28/2011</td><td>0.03</td><td>6.68</td><td>0.2</td><td>6.48</td><td>6.15</td><td>7</td></tr>\n",
       "<tr><td>88523</td><td>3</td><td>Bonnie Potter</td><td>West</td><td>Washington</td><td>Anacortes</td><td>98221</td><td>Corporate</td><td>Not Specified</td><td>Regular Air</td><td>Office Supplies</td><td>Scissors, Rulers ...</td><td>Small Pack</td><td>Acme� Preferred S...</td><td>7/27/2011</td><td>7/28/2011</td><td>0.01</td><td>5.68</td><td>0.06</td><td>5.62</td><td>3.6</td><td>7</td></tr>\n",
       "<tr><td>88523</td><td>3</td><td>Bonnie Potter</td><td>West</td><td>Washington</td><td>Anacortes</td><td>98221</td><td>Corporate</td><td>Not Specified</td><td>Express Air</td><td>Technology</td><td>Telephones and Co...</td><td>Small Box</td><td>V70</td><td>7/27/2011</td><td>7/27/2011</td><td>0.0</td><td>205.99</td><td>0.0</td><td>205.99</td><td>2.5</td><td>8</td></tr>\n",
       "<tr><td>88524</td><td>3</td><td>Bonnie Potter</td><td>West</td><td>Washington</td><td>Anacortes</td><td>98221</td><td>Corporate</td><td>Medium</td><td>Express Air</td><td>Office Supplies</td><td>Paper</td><td>Small Box</td><td>Xerox 194</td><td>11/9/2011</td><td>11/11/2011</td><td>0.09</td><td>55.48</td><td>4.99</td><td>50.49</td><td>14.3</td><td>37</td></tr>\n",
       "<tr><td>88526</td><td>3</td><td>Bonnie Potter</td><td>West</td><td>Washington</td><td>Anacortes</td><td>98221</td><td>Corporate</td><td>Low</td><td>Delivery Truck</td><td>Technology</td><td>Office Machines</td><td>Jumbo Drum</td><td>Canon S750 Color ...</td><td>7/1/2013</td><td>7/8/2013</td><td>0.08</td><td>120.97</td><td>9.68</td><td>111.29</td><td>26.3</td><td>12</td></tr>\n",
       "<tr><td>90193</td><td>5</td><td>Ronnie Proctor</td><td>West</td><td>California</td><td>San Gabriel</td><td>91776</td><td>Home Office</td><td>Not Specified</td><td>Delivery Truck</td><td>Furniture</td><td>Chairs &amp; Chairmats</td><td>Jumbo Drum</td><td>Global Troy� Exec...</td><td>12/13/2010</td><td>12/15/2010</td><td>0.02</td><td>500.98</td><td>10.02</td><td>490.96</td><td>26.0</td><td>12</td></tr>\n",
       "<tr><td>90197</td><td>5</td><td>Ronnie Proctor</td><td>West</td><td>California</td><td>San Gabriel</td><td>91776</td><td>Home Office</td><td>Low</td><td>Regular Air</td><td>Office Supplies</td><td>Paper</td><td>Small Box</td><td>Xerox 1930</td><td>5/12/2012</td><td>5/21/2012</td><td>0.08</td><td>6.48</td><td>0.52</td><td>5.96</td><td>6.81</td><td>18</td></tr>\n",
       "<tr><td>90194</td><td>6</td><td>Dwight Hwang</td><td>West</td><td>California</td><td>San Jose</td><td>95123</td><td>Home Office</td><td>High</td><td>Regular Air</td><td>Office Supplies</td><td>Appliances</td><td>Small Box</td><td>Kensington 6 Outl...</td><td>5/26/2011</td><td>5/26/2011</td><td>0.01</td><td>90.24</td><td>0.9</td><td>89.34</td><td>0.99</td><td>16</td></tr>\n",
       "<tr><td>90200</td><td>6</td><td>Dwight Hwang</td><td>West</td><td>California</td><td>San Jose</td><td>95123</td><td>Home Office</td><td>Critical</td><td>Regular Air</td><td>Office Supplies</td><td>Paper</td><td>Small Box</td><td>Xerox 21</td><td>12/29/2012</td><td>12/31/2012</td><td>0.07</td><td>6.48</td><td>0.45</td><td>6.03</td><td>6.6</td><td>4</td></tr>\n",
       "<tr><td>90200</td><td>6</td><td>Dwight Hwang</td><td>West</td><td>California</td><td>San Jose</td><td>95123</td><td>Home Office</td><td>Critical</td><td>Regular Air</td><td>Office Supplies</td><td>Pens &amp; Art Supplies</td><td>Wrap Bag</td><td>*Staples* Highlig...</td><td>12/29/2012</td><td>12/31/2012</td><td>0.01</td><td>4.84</td><td>0.05</td><td>4.79</td><td>0.71</td><td>17</td></tr>\n",
       "<tr><td>90200</td><td>6</td><td>Dwight Hwang</td><td>West</td><td>California</td><td>San Jose</td><td>95123</td><td>Home Office</td><td>Critical</td><td>Regular Air</td><td>Technology</td><td>Telephones and Co...</td><td>Wrap Bag</td><td>Accessory34</td><td>12/29/2012</td><td>12/31/2012</td><td>0.1</td><td>85.99</td><td>8.6</td><td>77.39</td><td>0.99</td><td>24</td></tr>\n",
       "<tr><td>90198</td><td>7</td><td>Leon Gill</td><td>East</td><td>Massachusetts</td><td>Fall River</td><td>2724</td><td>Home Office</td><td>High</td><td>Regular Air</td><td>Office Supplies</td><td>Paper</td><td>Small Box</td><td>Xerox 1933</td><td>10/30/2012</td><td>10/31/2012</td><td>0.05</td><td>12.28</td><td>0.61</td><td>11.67</td><td>4.86</td><td>19</td></tr>\n",
       "<tr><td>90199</td><td>8</td><td>Melanie Garner</td><td>East</td><td>New Hampshire</td><td>Bedford</td><td>3110</td><td>Home Office</td><td>Medium</td><td>Delivery Truck</td><td>Furniture</td><td>Bookcases</td><td>Jumbo Box</td><td>Sauder Forest Hil...</td><td>12/25/2012</td><td>12/26/2012</td><td>0.08</td><td>140.98</td><td>11.28</td><td>129.7</td><td>36.09</td><td>5</td></tr>\n",
       "<tr><td>90199</td><td>9</td><td>Lorraine Houston</td><td>East</td><td>New Jersey</td><td>Camden</td><td>8101</td><td>Home Office</td><td>Medium</td><td>Delivery Truck</td><td>Furniture</td><td>Tables</td><td>Jumbo Box</td><td>Riverside Furnitu...</td><td>12/25/2012</td><td>12/27/2012</td><td>0.1</td><td>286.85</td><td>28.69</td><td>258.17</td><td>61.76</td><td>8</td></tr>\n",
       "<tr><td>90195</td><td>10</td><td>Meredith Norris T...</td><td>East</td><td>New Jersey</td><td>Pennsauken</td><td>8109</td><td>Home Office</td><td>Critical</td><td>Regular Air</td><td>Office Supplies</td><td>Envelopes</td><td>Small Box</td><td>Park Ridge� Embos...</td><td>10/4/2011</td><td>10/5/2011</td><td>0.06</td><td>15.57</td><td>0.93</td><td>14.64</td><td>1.39</td><td>14</td></tr>\n",
       "<tr><td>90192</td><td>11</td><td>Marcus Dunlap</td><td>East</td><td>New Jersey</td><td>Roselle</td><td>7203</td><td>Home Office</td><td>Critical</td><td>Regular Air</td><td>Furniture</td><td>Office Furnishings</td><td>Small Pack</td><td>DAX Two-Tone Rose...</td><td>8/15/2010</td><td>8/17/2010</td><td>0.06</td><td>9.48</td><td>0.57</td><td>8.91</td><td>7.29</td><td>22</td></tr>\n",
       "<tr><td>90196</td><td>12</td><td>Kara Pace</td><td>East</td><td>Rhode Island</td><td>Cranston</td><td>2907</td><td>Home Office</td><td>High</td><td>Regular Air</td><td>Office Supplies</td><td>Scissors, Rulers ...</td><td>Small Pack</td><td>Fiskars� Softgrip...</td><td>2/24/2012</td><td>2/26/2012</td><td>0.04</td><td>10.98</td><td>0.44</td><td>10.54</td><td>3.37</td><td>8</td></tr>\n",
       "<tr><td>86838</td><td>14</td><td>Gwendolyn F Tyson</td><td>Central</td><td>Minnesota</td><td>Prior Lake</td><td>55372</td><td>Small Business</td><td>Medium</td><td>Regular Air</td><td>Furniture</td><td>Office Furnishings</td><td>Small Box</td><td>Howard Miller 12-...</td><td>5/12/2010</td><td>5/14/2010</td><td>0.09</td><td>78.69</td><td>7.08</td><td>71.61</td><td>19.99</td><td>16</td></tr>\n",
       "</table>\n",
       "only showing top 20 rows\n"
      ],
      "text/plain": [
       "+--------+-----------+--------------------+-------+-----------------+-----------+-----------+----------------+--------------+--------------+----------------+--------------------+-----------------+--------------------+----------+----------+--------+----------+---------------+--------------+-------------+--------+\n",
       "|Order ID|Customer ID|       Customer Name| Region|State or Province|       City|Postal Code|Customer Segment|Order Priority|     Ship Mode|Product Category|Product Sub-Category|Product Container|        Product Name|Order Date| Ship Date|Discount|Unit Price|Discount Amount|Discount Price|Shipping Cost|Quantity|\n",
       "+--------+-----------+--------------------+-------+-----------------+-----------+-----------+----------------+--------------+--------------+----------------+--------------------+-----------------+--------------------+----------+----------+--------+----------+---------------+--------------+-------------+--------+\n",
       "|   88525|          2|     Janice Fletcher|Central|         Illinois|    Addison|      60101|       Corporate| Not Specified|   Regular Air| Office Supplies|              Labels|        Small Box|            Avery 49| 5/28/2012| 5/30/2012|    0.01|      2.88|           0.03|          2.85|          0.5|       2|\n",
       "|   88522|          3|       Bonnie Potter|   West|       Washington|  Anacortes|      98221|       Corporate|          High|   Express Air| Office Supplies| Pens & Art Supplies|         Wrap Bag|SANFORD Liquid Ac...|  7/7/2010|  7/8/2010|    0.01|      2.84|           0.03|          2.81|         0.93|       4|\n",
       "|   88523|          3|       Bonnie Potter|   West|       Washington|  Anacortes|      98221|       Corporate| Not Specified|   Express Air| Office Supplies|               Paper|        Small Box|          Xerox 1968| 7/27/2011| 7/28/2011|    0.03|      6.68|            0.2|          6.48|         6.15|       7|\n",
       "|   88523|          3|       Bonnie Potter|   West|       Washington|  Anacortes|      98221|       Corporate| Not Specified|   Regular Air| Office Supplies|Scissors, Rulers ...|       Small Pack|Acme� Preferred S...| 7/27/2011| 7/28/2011|    0.01|      5.68|           0.06|          5.62|          3.6|       7|\n",
       "|   88523|          3|       Bonnie Potter|   West|       Washington|  Anacortes|      98221|       Corporate| Not Specified|   Express Air|      Technology|Telephones and Co...|        Small Box|                 V70| 7/27/2011| 7/27/2011|     0.0|    205.99|            0.0|        205.99|          2.5|       8|\n",
       "|   88524|          3|       Bonnie Potter|   West|       Washington|  Anacortes|      98221|       Corporate|        Medium|   Express Air| Office Supplies|               Paper|        Small Box|           Xerox 194| 11/9/2011|11/11/2011|    0.09|     55.48|           4.99|         50.49|         14.3|      37|\n",
       "|   88526|          3|       Bonnie Potter|   West|       Washington|  Anacortes|      98221|       Corporate|           Low|Delivery Truck|      Technology|     Office Machines|       Jumbo Drum|Canon S750 Color ...|  7/1/2013|  7/8/2013|    0.08|    120.97|           9.68|        111.29|         26.3|      12|\n",
       "|   90193|          5|      Ronnie Proctor|   West|       California|San Gabriel|      91776|     Home Office| Not Specified|Delivery Truck|       Furniture|  Chairs & Chairmats|       Jumbo Drum|Global Troy� Exec...|12/13/2010|12/15/2010|    0.02|    500.98|          10.02|        490.96|         26.0|      12|\n",
       "|   90197|          5|      Ronnie Proctor|   West|       California|San Gabriel|      91776|     Home Office|           Low|   Regular Air| Office Supplies|               Paper|        Small Box|          Xerox 1930| 5/12/2012| 5/21/2012|    0.08|      6.48|           0.52|          5.96|         6.81|      18|\n",
       "|   90194|          6|        Dwight Hwang|   West|       California|   San Jose|      95123|     Home Office|          High|   Regular Air| Office Supplies|          Appliances|        Small Box|Kensington 6 Outl...| 5/26/2011| 5/26/2011|    0.01|     90.24|            0.9|         89.34|         0.99|      16|\n",
       "|   90200|          6|        Dwight Hwang|   West|       California|   San Jose|      95123|     Home Office|      Critical|   Regular Air| Office Supplies|               Paper|        Small Box|            Xerox 21|12/29/2012|12/31/2012|    0.07|      6.48|           0.45|          6.03|          6.6|       4|\n",
       "|   90200|          6|        Dwight Hwang|   West|       California|   San Jose|      95123|     Home Office|      Critical|   Regular Air| Office Supplies| Pens & Art Supplies|         Wrap Bag|*Staples* Highlig...|12/29/2012|12/31/2012|    0.01|      4.84|           0.05|          4.79|         0.71|      17|\n",
       "|   90200|          6|        Dwight Hwang|   West|       California|   San Jose|      95123|     Home Office|      Critical|   Regular Air|      Technology|Telephones and Co...|         Wrap Bag|         Accessory34|12/29/2012|12/31/2012|     0.1|     85.99|            8.6|         77.39|         0.99|      24|\n",
       "|   90198|          7|           Leon Gill|   East|    Massachusetts| Fall River|       2724|     Home Office|          High|   Regular Air| Office Supplies|               Paper|        Small Box|          Xerox 1933|10/30/2012|10/31/2012|    0.05|     12.28|           0.61|         11.67|         4.86|      19|\n",
       "|   90199|          8|      Melanie Garner|   East|    New Hampshire|    Bedford|       3110|     Home Office|        Medium|Delivery Truck|       Furniture|           Bookcases|        Jumbo Box|Sauder Forest Hil...|12/25/2012|12/26/2012|    0.08|    140.98|          11.28|         129.7|        36.09|       5|\n",
       "|   90199|          9|    Lorraine Houston|   East|       New Jersey|     Camden|       8101|     Home Office|        Medium|Delivery Truck|       Furniture|              Tables|        Jumbo Box|Riverside Furnitu...|12/25/2012|12/27/2012|     0.1|    286.85|          28.69|        258.17|        61.76|       8|\n",
       "|   90195|         10|Meredith Norris T...|   East|       New Jersey| Pennsauken|       8109|     Home Office|      Critical|   Regular Air| Office Supplies|           Envelopes|        Small Box|Park Ridge� Embos...| 10/4/2011| 10/5/2011|    0.06|     15.57|           0.93|         14.64|         1.39|      14|\n",
       "|   90192|         11|       Marcus Dunlap|   East|       New Jersey|    Roselle|       7203|     Home Office|      Critical|   Regular Air|       Furniture|  Office Furnishings|       Small Pack|DAX Two-Tone Rose...| 8/15/2010| 8/17/2010|    0.06|      9.48|           0.57|          8.91|         7.29|      22|\n",
       "|   90196|         12|           Kara Pace|   East|     Rhode Island|   Cranston|       2907|     Home Office|          High|   Regular Air| Office Supplies|Scissors, Rulers ...|       Small Pack|Fiskars� Softgrip...| 2/24/2012| 2/26/2012|    0.04|     10.98|           0.44|         10.54|         3.37|       8|\n",
       "|   86838|         14|   Gwendolyn F Tyson|Central|        Minnesota| Prior Lake|      55372|  Small Business|        Medium|   Regular Air|       Furniture|  Office Furnishings|        Small Box|Howard Miller 12-...| 5/12/2010| 5/14/2010|    0.09|     78.69|           7.08|         71.61|        19.99|      16|\n",
       "+--------+-----------+--------------------+-------+-----------------+-----------+-----------+----------------+--------------+--------------+----------------+--------------------+-----------------+--------------------+----------+----------+--------+----------+---------------+--------------+-------------+--------+\n",
       "only showing top 20 rows"
      ]
     },
     "execution_count": 3,
     "metadata": {},
     "output_type": "execute_result"
    }
   ],
   "source": [
    "findspark.init()\n",
    "\n",
    "spark = SparkSession.builder \\\n",
    "    .appName(\"ETL Pipeline\") \\\n",
    "    .config(\"spark.driver.memory\", \"2g\") \\\n",
    "    .config(\"spark.executor.memory\", \"2g\") \\\n",
    "    .config(\"spark.driver.extraClassPath\", r\"C:\\Drivers\\sqljdbc_12.10.0.0_enu\\sqljdbc_12.10\\enu\\jars\\mssql-jdbc-12.10.0.jre11.jar\") \\\n",
    "    .getOrCreate()\n",
    "\n",
    "# Read CSV\n",
    "df = spark.read.csv(\n",
    "    \"../../raw data/Sample Superstore - Orders.csv\",\n",
    "    header=True,\n",
    "    inferSchema=True,\n",
    "    sep=\",\",\n",
    "    quote='\"',\n",
    "    escape='\"',\n",
    "    multiLine=True  \n",
    ")\n",
    "\n",
    "returns = spark.read.csv(\n",
    "    \"../../raw data/Sample Superstore - Returns.csv\", \n",
    "    header=True, \n",
    "    inferSchema=True, \n",
    "    sep=\",\",\n",
    "    quote='\"',\n",
    "    escape='\"',\n",
    "    multiLine=True\n",
    ")\n",
    "\n",
    "spark.conf.set('spark.sql.repl.eagerEval.enabled', True)\n",
    "df"
   ]
  },
  {
   "cell_type": "code",
   "execution_count": 4,
   "id": "de56dffd",
   "metadata": {},
   "outputs": [
    {
     "data": {
      "text/html": [
       "<table border='1'>\n",
       "<tr><th>Order ID</th><th>Status</th></tr>\n",
       "<tr><td>65</td><td>Returned</td></tr>\n",
       "<tr><td>612</td><td>Returned</td></tr>\n",
       "<tr><td>614</td><td>Returned</td></tr>\n",
       "<tr><td>678</td><td>Returned</td></tr>\n",
       "<tr><td>710</td><td>Returned</td></tr>\n",
       "<tr><td>740</td><td>Returned</td></tr>\n",
       "<tr><td>775</td><td>Returned</td></tr>\n",
       "<tr><td>833</td><td>Returned</td></tr>\n",
       "<tr><td>902</td><td>Returned</td></tr>\n",
       "<tr><td>3300</td><td>Returned</td></tr>\n",
       "<tr><td>3456</td><td>Returned</td></tr>\n",
       "<tr><td>3525</td><td>Returned</td></tr>\n",
       "<tr><td>3589</td><td>Returned</td></tr>\n",
       "<tr><td>3687</td><td>Returned</td></tr>\n",
       "<tr><td>3777</td><td>Returned</td></tr>\n",
       "<tr><td>3783</td><td>Returned</td></tr>\n",
       "<tr><td>4006</td><td>Returned</td></tr>\n",
       "<tr><td>4037</td><td>Returned</td></tr>\n",
       "<tr><td>4230</td><td>Returned</td></tr>\n",
       "<tr><td>4261</td><td>Returned</td></tr>\n",
       "</table>\n",
       "only showing top 20 rows\n"
      ],
      "text/plain": [
       "+--------+--------+\n",
       "|Order ID|  Status|\n",
       "+--------+--------+\n",
       "|      65|Returned|\n",
       "|     612|Returned|\n",
       "|     614|Returned|\n",
       "|     678|Returned|\n",
       "|     710|Returned|\n",
       "|     740|Returned|\n",
       "|     775|Returned|\n",
       "|     833|Returned|\n",
       "|     902|Returned|\n",
       "|    3300|Returned|\n",
       "|    3456|Returned|\n",
       "|    3525|Returned|\n",
       "|    3589|Returned|\n",
       "|    3687|Returned|\n",
       "|    3777|Returned|\n",
       "|    3783|Returned|\n",
       "|    4006|Returned|\n",
       "|    4037|Returned|\n",
       "|    4230|Returned|\n",
       "|    4261|Returned|\n",
       "+--------+--------+\n",
       "only showing top 20 rows"
      ]
     },
     "execution_count": 4,
     "metadata": {},
     "output_type": "execute_result"
    }
   ],
   "source": [
    "returns"
   ]
  },
  {
   "cell_type": "code",
   "execution_count": 5,
   "id": "d814d607",
   "metadata": {},
   "outputs": [
    {
     "name": "stdout",
     "output_type": "stream",
     "text": [
      "+-------+-----------------+------------------+------------------+-------+-----------------+--------+-----------------+----------------+--------------+--------------+----------------+--------------------+-----------------+--------------------+----------+---------+--------------------+------------------+------------------+-----------------+------------------+------------------+\n",
      "|summary|         Order ID|       Customer ID|     Customer Name| Region|State or Province|    City|      Postal Code|Customer Segment|Order Priority|     Ship Mode|Product Category|Product Sub-Category|Product Container|        Product Name|Order Date|Ship Date|            Discount|        Unit Price|   Discount Amount|   Discount Price|     Shipping Cost|          Quantity|\n",
      "+-------+-----------------+------------------+------------------+-------+-----------------+--------+-----------------+----------------+--------------+--------------+----------------+--------------------+-----------------+--------------------+----------+---------+--------------------+------------------+------------------+-----------------+------------------+------------------+\n",
      "|  count|             9426|              9426|              9426|   9426|             9426|    9426|             9426|            9426|          9426|          9426|            9426|                9426|             9426|                9426|      9426|     9426|                9426|              9426|              9426|             9426|              9426|              9426|\n",
      "|   mean|82318.48907277742|1738.4222363674942|              NULL|   NULL|             NULL|    NULL|52446.32728622958|            NULL|          NULL|          NULL|            NULL|                NULL|             NULL|   4732.745454545455|      NULL|     NULL|0.049627625716102734| 88.30368555060119| 4.392415658816025|83.91136537237423|12.795142159983353|13.798429874814344|\n",
      "| stddev|19149.44885700202| 979.1671968107739|              NULL|   NULL|             NULL|    NULL|29374.59780179691|            NULL|          NULL|          NULL|            NULL|                NULL|             NULL|  2691.2923833915956|      NULL|     NULL| 0.03179842507529803|281.54098169904165|16.411971094087107|268.0501698488202|17.181202775495098|15.107687774612897|\n",
      "|    min|                6|                 2|Aaron Davies Bruce|Central|          Alabama|Aberdeen|             1001|        Consumer|      Critical|Delivery Truck|       Furniture|          Appliances|        Jumbo Box|\"While you Were O...|  1/1/2010| 1/1/2011|                 0.0|              0.99|               0.0|             0.94|              0.49|                 1|\n",
      "|    max|            91591|              3403|        Zachary Yu|   West|          Wyoming|    Yuma|            99362|  Small Business| Not Specified|   Regular Air|      Technology|Telephones and Co...|         Wrap Bag|            iDENi80s|  9/9/2013| 9/9/2013|                0.25|           6783.02|            610.47|          6783.02|            164.73|               170|\n",
      "+-------+-----------------+------------------+------------------+-------+-----------------+--------+-----------------+----------------+--------------+--------------+----------------+--------------------+-----------------+--------------------+----------+---------+--------------------+------------------+------------------+-----------------+------------------+------------------+\n",
      "\n"
     ]
    }
   ],
   "source": [
    "df.describe().show()"
   ]
  },
  {
   "cell_type": "markdown",
   "id": "7d5fd42a",
   "metadata": {},
   "source": [
    "| COLUMN                    | NOTE                                                                  | SOLVABLE | PROPOSED PROCEDURE                                                                                                                     |\n",
    "| ------------------------- | --------------------------------------------------------------------- | -------- | -------------------------------------------------------------------------------------------------------------------------------------- |\n",
    "| `Product Name`            | Mean and stddev still exist → likely numeric leakage into column      | Yes        | Check if numeric fields (e.g., `Discount Price`) spilled into this column; investigate via `.select(\"Product Name\").distinct().show()` |\n",
    "| `Product Name`            | Some values are wrapped in quotes (e.g. `\"While you Were O...\"`)      | Yes        | Use `.withColumn()` + regex/trim to clean extra quotes from string fields                                                              |\n",
    "| `Unit Price`              | Max value is **6783.02** (vs. mean \\~88.3) → extreme outliers present | Yes        | Identify and flag records with `Unit Price > 1000` as potential outliers                                                               |\n",
    "| `Discount`                | Range from `0.0` to `0.25` seems valid but needs verification         | Yes        | Confirm all values fall within 0–1; filter out invalid discount entries                                                                |\n",
    "| `Order Date`, `Ship Date` | Still treated as strings (no mean/stddev)                             | Yes        | Convert to date type using `to_date()` and compute `delivery_delay`                                                                    |\n",
    "| `Shipping Cost`           | Outliers exist (max = 164.73 vs. mean = 12.79)                        | Yes        | Flag and investigate rows where `Shipping Cost > 100`                                                                                  |                                                           |\n",
    "| `Postal Code`             | Numeric but actually categorical; leading zeros may be lost           | Yes        | Cast as string to preserve format and leading digits                                                                                   |\n"
   ]
  },
  {
   "cell_type": "markdown",
   "id": "01706e7f",
   "metadata": {},
   "source": [
    "### Standardize Product Name"
   ]
  },
  {
   "cell_type": "code",
   "execution_count": 6,
   "id": "031c4cdb",
   "metadata": {},
   "outputs": [],
   "source": [
    "from pyspark.sql.functions import col, lower, trim, regexp_replace\n",
    "\n",
    "df_cleaned = df.withColumn(\n",
    "    \"Product Name\",\n",
    "    regexp_replace(trim(lower(col(\"Product Name\"))), \"[^a-z0-9 ]\", \"\")\n",
    ")\n"
   ]
  },
  {
   "cell_type": "code",
   "execution_count": 7,
   "id": "bd4cabab",
   "metadata": {},
   "outputs": [
    {
     "name": "stdout",
     "output_type": "stream",
     "text": [
      "+--------+-----------+--------------------+-------+-----------------+-----------+-----------+----------------+--------------+--------------+----------------+--------------------+-----------------+--------------------+----------+----------+--------+----------+---------------+--------------+-------------+--------+\n",
      "|Order ID|Customer ID|       Customer Name| Region|State or Province|       City|Postal Code|Customer Segment|Order Priority|     Ship Mode|Product Category|Product Sub-Category|Product Container|        Product Name|Order Date| Ship Date|Discount|Unit Price|Discount Amount|Discount Price|Shipping Cost|Quantity|\n",
      "+--------+-----------+--------------------+-------+-----------------+-----------+-----------+----------------+--------------+--------------+----------------+--------------------+-----------------+--------------------+----------+----------+--------+----------+---------------+--------------+-------------+--------+\n",
      "|   88525|          2|     Janice Fletcher|Central|         Illinois|    Addison|      60101|       Corporate| Not Specified|   Regular Air| Office Supplies|              Labels|        Small Box|            avery 49| 5/28/2012| 5/30/2012|    0.01|      2.88|           0.03|          2.85|          0.5|       2|\n",
      "|   88522|          3|       Bonnie Potter|   West|       Washington|  Anacortes|      98221|       Corporate|          High|   Express Air| Office Supplies| Pens & Art Supplies|         Wrap Bag|sanford liquid ac...|  7/7/2010|  7/8/2010|    0.01|      2.84|           0.03|          2.81|         0.93|       4|\n",
      "|   88523|          3|       Bonnie Potter|   West|       Washington|  Anacortes|      98221|       Corporate| Not Specified|   Express Air| Office Supplies|               Paper|        Small Box|          xerox 1968| 7/27/2011| 7/28/2011|    0.03|      6.68|            0.2|          6.48|         6.15|       7|\n",
      "|   88523|          3|       Bonnie Potter|   West|       Washington|  Anacortes|      98221|       Corporate| Not Specified|   Regular Air| Office Supplies|Scissors, Rulers ...|       Small Pack|acme preferred st...| 7/27/2011| 7/28/2011|    0.01|      5.68|           0.06|          5.62|          3.6|       7|\n",
      "|   88523|          3|       Bonnie Potter|   West|       Washington|  Anacortes|      98221|       Corporate| Not Specified|   Express Air|      Technology|Telephones and Co...|        Small Box|                 v70| 7/27/2011| 7/27/2011|     0.0|    205.99|            0.0|        205.99|          2.5|       8|\n",
      "|   88524|          3|       Bonnie Potter|   West|       Washington|  Anacortes|      98221|       Corporate|        Medium|   Express Air| Office Supplies|               Paper|        Small Box|           xerox 194| 11/9/2011|11/11/2011|    0.09|     55.48|           4.99|         50.49|         14.3|      37|\n",
      "|   88526|          3|       Bonnie Potter|   West|       Washington|  Anacortes|      98221|       Corporate|           Low|Delivery Truck|      Technology|     Office Machines|       Jumbo Drum|canon s750 color ...|  7/1/2013|  7/8/2013|    0.08|    120.97|           9.68|        111.29|         26.3|      12|\n",
      "|   90193|          5|      Ronnie Proctor|   West|       California|San Gabriel|      91776|     Home Office| Not Specified|Delivery Truck|       Furniture|  Chairs & Chairmats|       Jumbo Drum|global troy execu...|12/13/2010|12/15/2010|    0.02|    500.98|          10.02|        490.96|         26.0|      12|\n",
      "|   90197|          5|      Ronnie Proctor|   West|       California|San Gabriel|      91776|     Home Office|           Low|   Regular Air| Office Supplies|               Paper|        Small Box|          xerox 1930| 5/12/2012| 5/21/2012|    0.08|      6.48|           0.52|          5.96|         6.81|      18|\n",
      "|   90194|          6|        Dwight Hwang|   West|       California|   San Jose|      95123|     Home Office|          High|   Regular Air| Office Supplies|          Appliances|        Small Box|kensington 6 outl...| 5/26/2011| 5/26/2011|    0.01|     90.24|            0.9|         89.34|         0.99|      16|\n",
      "|   90200|          6|        Dwight Hwang|   West|       California|   San Jose|      95123|     Home Office|      Critical|   Regular Air| Office Supplies|               Paper|        Small Box|            xerox 21|12/29/2012|12/31/2012|    0.07|      6.48|           0.45|          6.03|          6.6|       4|\n",
      "|   90200|          6|        Dwight Hwang|   West|       California|   San Jose|      95123|     Home Office|      Critical|   Regular Air| Office Supplies| Pens & Art Supplies|         Wrap Bag|staples highlight...|12/29/2012|12/31/2012|    0.01|      4.84|           0.05|          4.79|         0.71|      17|\n",
      "|   90200|          6|        Dwight Hwang|   West|       California|   San Jose|      95123|     Home Office|      Critical|   Regular Air|      Technology|Telephones and Co...|         Wrap Bag|         accessory34|12/29/2012|12/31/2012|     0.1|     85.99|            8.6|         77.39|         0.99|      24|\n",
      "|   90198|          7|           Leon Gill|   East|    Massachusetts| Fall River|       2724|     Home Office|          High|   Regular Air| Office Supplies|               Paper|        Small Box|          xerox 1933|10/30/2012|10/31/2012|    0.05|     12.28|           0.61|         11.67|         4.86|      19|\n",
      "|   90199|          8|      Melanie Garner|   East|    New Hampshire|    Bedford|       3110|     Home Office|        Medium|Delivery Truck|       Furniture|           Bookcases|        Jumbo Box|sauder forest hil...|12/25/2012|12/26/2012|    0.08|    140.98|          11.28|         129.7|        36.09|       5|\n",
      "|   90199|          9|    Lorraine Houston|   East|       New Jersey|     Camden|       8101|     Home Office|        Medium|Delivery Truck|       Furniture|              Tables|        Jumbo Box|riverside furnitu...|12/25/2012|12/27/2012|     0.1|    286.85|          28.69|        258.17|        61.76|       8|\n",
      "|   90195|         10|Meredith Norris T...|   East|       New Jersey| Pennsauken|       8109|     Home Office|      Critical|   Regular Air| Office Supplies|           Envelopes|        Small Box|park ridge emboss...| 10/4/2011| 10/5/2011|    0.06|     15.57|           0.93|         14.64|         1.39|      14|\n",
      "|   90192|         11|       Marcus Dunlap|   East|       New Jersey|    Roselle|       7203|     Home Office|      Critical|   Regular Air|       Furniture|  Office Furnishings|       Small Pack|dax twotone rosew...| 8/15/2010| 8/17/2010|    0.06|      9.48|           0.57|          8.91|         7.29|      22|\n",
      "|   90196|         12|           Kara Pace|   East|     Rhode Island|   Cranston|       2907|     Home Office|          High|   Regular Air| Office Supplies|Scissors, Rulers ...|       Small Pack|fiskars softgrip ...| 2/24/2012| 2/26/2012|    0.04|     10.98|           0.44|         10.54|         3.37|       8|\n",
      "|   86838|         14|   Gwendolyn F Tyson|Central|        Minnesota| Prior Lake|      55372|  Small Business|        Medium|   Regular Air|       Furniture|  Office Furnishings|        Small Box|howard miller 123...| 5/12/2010| 5/14/2010|    0.09|     78.69|           7.08|         71.61|        19.99|      16|\n",
      "+--------+-----------+--------------------+-------+-----------------+-----------+-----------+----------------+--------------+--------------+----------------+--------------------+-----------------+--------------------+----------+----------+--------+----------+---------------+--------------+-------------+--------+\n",
      "only showing top 20 rows\n",
      "\n"
     ]
    }
   ],
   "source": [
    "df_cleaned.show()"
   ]
  },
  {
   "cell_type": "code",
   "execution_count": 8,
   "id": "8ef17fe4",
   "metadata": {},
   "outputs": [
    {
     "name": "stdout",
     "output_type": "stream",
     "text": [
      "root\n",
      " |-- Order ID: integer (nullable = true)\n",
      " |-- Customer ID: integer (nullable = true)\n",
      " |-- Customer Name: string (nullable = true)\n",
      " |-- Region: string (nullable = true)\n",
      " |-- State or Province: string (nullable = true)\n",
      " |-- City: string (nullable = true)\n",
      " |-- Postal Code: integer (nullable = true)\n",
      " |-- Customer Segment: string (nullable = true)\n",
      " |-- Order Priority: string (nullable = true)\n",
      " |-- Ship Mode: string (nullable = true)\n",
      " |-- Product Category: string (nullable = true)\n",
      " |-- Product Sub-Category: string (nullable = true)\n",
      " |-- Product Container: string (nullable = true)\n",
      " |-- Product Name: string (nullable = true)\n",
      " |-- Order Date: string (nullable = true)\n",
      " |-- Ship Date: string (nullable = true)\n",
      " |-- Discount: double (nullable = true)\n",
      " |-- Unit Price: double (nullable = true)\n",
      " |-- Discount Amount: double (nullable = true)\n",
      " |-- Discount Price: double (nullable = true)\n",
      " |-- Shipping Cost: double (nullable = true)\n",
      " |-- Quantity: integer (nullable = true)\n",
      "\n"
     ]
    }
   ],
   "source": [
    "df_cleaned.printSchema()"
   ]
  },
  {
   "cell_type": "code",
   "execution_count": 9,
   "id": "582d8863",
   "metadata": {},
   "outputs": [],
   "source": [
    "from pyspark.sql.types import StringType\n",
    "\n",
    "df_cleaned = df_cleaned \\\n",
    "    .withColumn(\"Postal Code\", col(\"Postal Code\").cast(StringType())) \\\n",
    "    .withColumn(\"Order Date\", to_date(col(\"Order Date\"), \"M/d/yyyy\")) \\\n",
    "    .withColumn(\"Ship Date\", to_date(col(\"Ship Date\"), \"M/d/yyyy\"))\n"
   ]
  },
  {
   "cell_type": "code",
   "execution_count": 10,
   "id": "6042e4fd",
   "metadata": {},
   "outputs": [
    {
     "name": "stdout",
     "output_type": "stream",
     "text": [
      "root\n",
      " |-- Order ID: integer (nullable = true)\n",
      " |-- Customer ID: integer (nullable = true)\n",
      " |-- Customer Name: string (nullable = true)\n",
      " |-- Region: string (nullable = true)\n",
      " |-- State or Province: string (nullable = true)\n",
      " |-- City: string (nullable = true)\n",
      " |-- Postal Code: string (nullable = true)\n",
      " |-- Customer Segment: string (nullable = true)\n",
      " |-- Order Priority: string (nullable = true)\n",
      " |-- Ship Mode: string (nullable = true)\n",
      " |-- Product Category: string (nullable = true)\n",
      " |-- Product Sub-Category: string (nullable = true)\n",
      " |-- Product Container: string (nullable = true)\n",
      " |-- Product Name: string (nullable = true)\n",
      " |-- Order Date: date (nullable = true)\n",
      " |-- Ship Date: date (nullable = true)\n",
      " |-- Discount: double (nullable = true)\n",
      " |-- Unit Price: double (nullable = true)\n",
      " |-- Discount Amount: double (nullable = true)\n",
      " |-- Discount Price: double (nullable = true)\n",
      " |-- Shipping Cost: double (nullable = true)\n",
      " |-- Quantity: integer (nullable = true)\n",
      "\n"
     ]
    }
   ],
   "source": [
    "df_cleaned.printSchema()"
   ]
  },
  {
   "cell_type": "code",
   "execution_count": 11,
   "id": "dc76ebac",
   "metadata": {},
   "outputs": [
    {
     "name": "stdout",
     "output_type": "stream",
     "text": [
      "+--------+-----------+--------------------+-------+-----------------+-----------+-----------+----------------+--------------+--------------+----------------+--------------------+-----------------+--------------------+----------+----------+--------+----------+---------------+--------------+-------------+--------+\n",
      "|Order ID|Customer ID|       Customer Name| Region|State or Province|       City|Postal Code|Customer Segment|Order Priority|     Ship Mode|Product Category|Product Sub-Category|Product Container|        Product Name|Order Date| Ship Date|Discount|Unit Price|Discount Amount|Discount Price|Shipping Cost|Quantity|\n",
      "+--------+-----------+--------------------+-------+-----------------+-----------+-----------+----------------+--------------+--------------+----------------+--------------------+-----------------+--------------------+----------+----------+--------+----------+---------------+--------------+-------------+--------+\n",
      "|   88525|          2|     Janice Fletcher|Central|         Illinois|    Addison|      60101|       Corporate| Not Specified|   Regular Air| Office Supplies|              Labels|        Small Box|            avery 49|2012-05-28|2012-05-30|    0.01|      2.88|           0.03|          2.85|          0.5|       2|\n",
      "|   88522|          3|       Bonnie Potter|   West|       Washington|  Anacortes|      98221|       Corporate|          High|   Express Air| Office Supplies| Pens & Art Supplies|         Wrap Bag|sanford liquid ac...|2010-07-07|2010-07-08|    0.01|      2.84|           0.03|          2.81|         0.93|       4|\n",
      "|   88523|          3|       Bonnie Potter|   West|       Washington|  Anacortes|      98221|       Corporate| Not Specified|   Express Air| Office Supplies|               Paper|        Small Box|          xerox 1968|2011-07-27|2011-07-28|    0.03|      6.68|            0.2|          6.48|         6.15|       7|\n",
      "|   88523|          3|       Bonnie Potter|   West|       Washington|  Anacortes|      98221|       Corporate| Not Specified|   Regular Air| Office Supplies|Scissors, Rulers ...|       Small Pack|acme preferred st...|2011-07-27|2011-07-28|    0.01|      5.68|           0.06|          5.62|          3.6|       7|\n",
      "|   88523|          3|       Bonnie Potter|   West|       Washington|  Anacortes|      98221|       Corporate| Not Specified|   Express Air|      Technology|Telephones and Co...|        Small Box|                 v70|2011-07-27|2011-07-27|     0.0|    205.99|            0.0|        205.99|          2.5|       8|\n",
      "|   88524|          3|       Bonnie Potter|   West|       Washington|  Anacortes|      98221|       Corporate|        Medium|   Express Air| Office Supplies|               Paper|        Small Box|           xerox 194|2011-11-09|2011-11-11|    0.09|     55.48|           4.99|         50.49|         14.3|      37|\n",
      "|   88526|          3|       Bonnie Potter|   West|       Washington|  Anacortes|      98221|       Corporate|           Low|Delivery Truck|      Technology|     Office Machines|       Jumbo Drum|canon s750 color ...|2013-07-01|2013-07-08|    0.08|    120.97|           9.68|        111.29|         26.3|      12|\n",
      "|   90193|          5|      Ronnie Proctor|   West|       California|San Gabriel|      91776|     Home Office| Not Specified|Delivery Truck|       Furniture|  Chairs & Chairmats|       Jumbo Drum|global troy execu...|2010-12-13|2010-12-15|    0.02|    500.98|          10.02|        490.96|         26.0|      12|\n",
      "|   90197|          5|      Ronnie Proctor|   West|       California|San Gabriel|      91776|     Home Office|           Low|   Regular Air| Office Supplies|               Paper|        Small Box|          xerox 1930|2012-05-12|2012-05-21|    0.08|      6.48|           0.52|          5.96|         6.81|      18|\n",
      "|   90194|          6|        Dwight Hwang|   West|       California|   San Jose|      95123|     Home Office|          High|   Regular Air| Office Supplies|          Appliances|        Small Box|kensington 6 outl...|2011-05-26|2011-05-26|    0.01|     90.24|            0.9|         89.34|         0.99|      16|\n",
      "|   90200|          6|        Dwight Hwang|   West|       California|   San Jose|      95123|     Home Office|      Critical|   Regular Air| Office Supplies|               Paper|        Small Box|            xerox 21|2012-12-29|2012-12-31|    0.07|      6.48|           0.45|          6.03|          6.6|       4|\n",
      "|   90200|          6|        Dwight Hwang|   West|       California|   San Jose|      95123|     Home Office|      Critical|   Regular Air| Office Supplies| Pens & Art Supplies|         Wrap Bag|staples highlight...|2012-12-29|2012-12-31|    0.01|      4.84|           0.05|          4.79|         0.71|      17|\n",
      "|   90200|          6|        Dwight Hwang|   West|       California|   San Jose|      95123|     Home Office|      Critical|   Regular Air|      Technology|Telephones and Co...|         Wrap Bag|         accessory34|2012-12-29|2012-12-31|     0.1|     85.99|            8.6|         77.39|         0.99|      24|\n",
      "|   90198|          7|           Leon Gill|   East|    Massachusetts| Fall River|       2724|     Home Office|          High|   Regular Air| Office Supplies|               Paper|        Small Box|          xerox 1933|2012-10-30|2012-10-31|    0.05|     12.28|           0.61|         11.67|         4.86|      19|\n",
      "|   90199|          8|      Melanie Garner|   East|    New Hampshire|    Bedford|       3110|     Home Office|        Medium|Delivery Truck|       Furniture|           Bookcases|        Jumbo Box|sauder forest hil...|2012-12-25|2012-12-26|    0.08|    140.98|          11.28|         129.7|        36.09|       5|\n",
      "|   90199|          9|    Lorraine Houston|   East|       New Jersey|     Camden|       8101|     Home Office|        Medium|Delivery Truck|       Furniture|              Tables|        Jumbo Box|riverside furnitu...|2012-12-25|2012-12-27|     0.1|    286.85|          28.69|        258.17|        61.76|       8|\n",
      "|   90195|         10|Meredith Norris T...|   East|       New Jersey| Pennsauken|       8109|     Home Office|      Critical|   Regular Air| Office Supplies|           Envelopes|        Small Box|park ridge emboss...|2011-10-04|2011-10-05|    0.06|     15.57|           0.93|         14.64|         1.39|      14|\n",
      "|   90192|         11|       Marcus Dunlap|   East|       New Jersey|    Roselle|       7203|     Home Office|      Critical|   Regular Air|       Furniture|  Office Furnishings|       Small Pack|dax twotone rosew...|2010-08-15|2010-08-17|    0.06|      9.48|           0.57|          8.91|         7.29|      22|\n",
      "|   90196|         12|           Kara Pace|   East|     Rhode Island|   Cranston|       2907|     Home Office|          High|   Regular Air| Office Supplies|Scissors, Rulers ...|       Small Pack|fiskars softgrip ...|2012-02-24|2012-02-26|    0.04|     10.98|           0.44|         10.54|         3.37|       8|\n",
      "|   86838|         14|   Gwendolyn F Tyson|Central|        Minnesota| Prior Lake|      55372|  Small Business|        Medium|   Regular Air|       Furniture|  Office Furnishings|        Small Box|howard miller 123...|2010-05-12|2010-05-14|    0.09|     78.69|           7.08|         71.61|        19.99|      16|\n",
      "+--------+-----------+--------------------+-------+-----------------+-----------+-----------+----------------+--------------+--------------+----------------+--------------------+-----------------+--------------------+----------+----------+--------+----------+---------------+--------------+-------------+--------+\n",
      "only showing top 20 rows\n",
      "\n"
     ]
    }
   ],
   "source": [
    "df_cleaned.show()"
   ]
  },
  {
   "cell_type": "code",
   "execution_count": 12,
   "id": "8104b7e9",
   "metadata": {},
   "outputs": [],
   "source": [
    "from pyspark.sql.functions import pandas_udf\n",
    "import pandas as pd\n",
    "\n",
    "@pandas_udf('string')\n",
    "def remove_middle_name(customer_names: pd.Series) -> pd.Series:\n",
    "    def format_name(name):\n",
    "        parts = name.strip().split()\n",
    "        if len(parts) == 1:\n",
    "            return parts[0]\n",
    "        elif len(parts) == 2:\n",
    "            return f\"{parts[0]} {parts[1]}\"\n",
    "        else:\n",
    "            return f\"{parts[0]} {parts[-1]}\"\n",
    "    \n",
    "    return customer_names.apply(format_name)\n"
   ]
  },
  {
   "cell_type": "code",
   "execution_count": 13,
   "id": "b986a6e5",
   "metadata": {},
   "outputs": [
    {
     "name": "stdout",
     "output_type": "stream",
     "text": [
      "+--------+-----------+-------------+------+-----------------+----+-----------+----------------+--------------+---------+----------------+--------------------+-----------------+------------+----------+---------+--------+----------+---------------+--------------+-------------+--------+\n",
      "|Order ID|Customer ID|Customer Name|Region|State or Province|City|Postal Code|Customer Segment|Order Priority|Ship Mode|Product Category|Product Sub-Category|Product Container|Product Name|Order Date|Ship Date|Discount|Unit Price|Discount Amount|Discount Price|Shipping Cost|Quantity|\n",
      "+--------+-----------+-------------+------+-----------------+----+-----------+----------------+--------------+---------+----------------+--------------------+-----------------+------------+----------+---------+--------+----------+---------------+--------------+-------------+--------+\n",
      "+--------+-----------+-------------+------+-----------------+----+-----------+----------------+--------------+---------+----------------+--------------------+-----------------+------------+----------+---------+--------+----------+---------------+--------------+-------------+--------+\n",
      "\n"
     ]
    }
   ],
   "source": [
    "df_cleaned.filter(col(\"Discount\") > 1).show()"
   ]
  },
  {
   "cell_type": "code",
   "execution_count": 14,
   "id": "476370eb",
   "metadata": {},
   "outputs": [
    {
     "name": "stdout",
     "output_type": "stream",
     "text": [
      "+--------+-----------+--------------------+-------+-----------------+---------------+-----------+----------------+--------------+--------------+----------------+--------------------+-----------------+--------------------+----------+----------+--------+----------+---------------+--------------+-------------+--------+\n",
      "|Order ID|Customer ID|       Customer Name| Region|State or Province|           City|Postal Code|Customer Segment|Order Priority|     Ship Mode|Product Category|Product Sub-Category|Product Container|        Product Name|Order Date| Ship Date|Discount|Unit Price|Discount Amount|Discount Price|Shipping Cost|Quantity|\n",
      "+--------+-----------+--------------------+-------+-----------------+---------------+-----------+----------------+--------------+--------------+----------------+--------------------+-----------------+--------------------+----------+----------+--------+----------+---------------+--------------+-------------+--------+\n",
      "|   90436|        194|       Tammy Goldman|   West|             Utah|           Lehi|      84043|       Corporate|      Critical|Delivery Truck|       Furniture|              Tables|        Jumbo Box|bush advantage co...|2013-12-09|2013-12-10|    0.08|    424.21|          33.94|        390.27|        110.2|       6|\n",
      "|   87961|        639|        Lois Rowland|   West|       California|    Santa Maria|      93454|        Consumer|           Low|Delivery Truck|       Furniture|              Tables|        Jumbo Box|bush advantage co...|2013-02-18|2013-02-25|    0.04|     212.6|            8.5|         204.1|        110.2|       3|\n",
      "|   52003|        640|          Neal Wolfe|   West|       Washington|        Seattle|      98119|        Consumer|           Low|Delivery Truck|       Furniture|              Tables|        Jumbo Box|bush advantage co...|2013-02-18|2013-02-25|    0.04|     212.6|            8.5|         204.1|        110.2|      11|\n",
      "|   88609|       1212|     Eileen Fletcher|Central|          Indiana|           Gary|      46404|  Small Business|           Low|Delivery Truck|       Furniture|              Tables|        Jumbo Box|chromcraft bullno...|2013-08-07|2013-08-14|    0.02|    550.98|          11.02|        539.96|       147.12|      23|\n",
      "|   89981|       1253|       Vickie Coates|Central|            Texas|     Cedar Park|      78613|     Home Office|           Low|Delivery Truck|       Furniture|              Tables|        Jumbo Box|bush advantage co...|2010-04-23|2010-04-25|     0.1|     212.6|          21.26|        191.34|        110.2|      12|\n",
      "|   90426|       1537|          Paul Cowan|Central|        Minnesota|        Hopkins|      55305|        Consumer| Not Specified|Delivery Truck|       Furniture|              Tables|        Jumbo Box|bush advantage co...|2013-01-19|2013-01-21|    0.03|     212.6|           6.38|        206.22|        110.2|       2|\n",
      "|   91261|       1894|Maureen Herbert Hood|Central|        Wisconsin|       Appleton|      54915|     Home Office|      Critical|Delivery Truck|       Furniture|  Chairs & Chairmats|       Jumbo Drum|global leather an...|2010-02-24|2010-02-25|     0.0|    300.98|            0.0|        300.98|       164.73|      12|\n",
      "|   90415|       1949|         Dana Waller|   West|          Montana|        Bozeman|      59715|  Small Business|           Low|Delivery Truck|       Furniture|              Tables|        Jumbo Box|bush advantage co...|2010-08-01|2010-08-05|    0.05|    424.21|          21.21|         403.0|        110.2|      12|\n",
      "|   88219|       2046|     Eileen Schwartz|Central|           Kansas|        Liberal|      67901|       Corporate|      Critical|Delivery Truck|       Furniture|              Tables|        Jumbo Box|bush advantage co...|2010-12-12|2010-12-13|    0.06|    424.21|          25.45|        398.76|        110.2|      17|\n",
      "|   86053|       2204|          Oscar Ford|Central|        Minnesota|     Burnsville|      55337|        Consumer|      Critical|Delivery Truck|       Furniture|              Tables|        Jumbo Box|hon 94000 series ...|2010-08-10|2010-08-11|    0.04|    296.18|          11.85|        284.33|       154.12|      20|\n",
      "|   86057|       2204|          Oscar Ford|Central|        Minnesota|     Burnsville|      55337|     Home Office|      Critical|Delivery Truck|       Furniture|  Chairs & Chairmats|       Jumbo Drum|office star  cont...|2012-03-04|2012-03-06|    0.04|    130.98|           5.24|        125.74|        130.0|      12|\n",
      "|   90113|       2274|    Marlene Harrison|Central|            Texas|        Houston|      77036|       Corporate|      Critical|Delivery Truck|       Furniture|  Chairs & Chairmats|       Jumbo Drum|global airflow le...|2012-12-07|2012-12-09|    0.07|    150.98|          10.57|        140.41|       143.71|       9|\n",
      "|   91126|       2390|        Tammy Gunter|   East|         New York|North Tonawanda|      14120|       Corporate|           Low|Delivery Truck|       Furniture|              Tables|        Jumbo Box|bush advantage co...|2012-10-25|2012-10-29|    0.04|     212.6|            8.5|         204.1|        110.2|      16|\n",
      "|   40997|       2548|          Wayne Bass|   West|       California|    Los Angeles|      90068|  Small Business|           Low|Delivery Truck|       Furniture|              Tables|        Jumbo Box|bush advantage co...|2010-04-21|2010-04-25|    0.04|     212.6|            8.5|         204.1|        110.2|      33|\n",
      "|   88657|       2549|       Martha Bowers|   East|             Ohio|      Whitehall|      43213|  Small Business|           Low|Delivery Truck|       Furniture|              Tables|        Jumbo Box|bush advantage co...|2010-04-21|2010-04-25|    0.04|     212.6|            8.5|         204.1|        110.2|       8|\n",
      "|   86984|       2784|      Rebecca Abrams|Central|         Oklahoma|        Shawnee|      74801|       Corporate|           Low|Delivery Truck|       Furniture|              Tables|        Jumbo Box|bush advantage co...|2013-03-30|2013-04-01|    0.08|    424.21|          33.94|        390.27|        110.2|       5|\n",
      "|   91378|       3067|       Carole Miller|   East|             Ohio|     Austintown|      44515|        Consumer|          High|Delivery Truck|       Furniture|              Tables|        Jumbo Box|bush advantage co...|2011-12-05|2011-12-06|    0.07|    424.21|          29.69|        394.52|        110.2|      10|\n",
      "|   87439|       3228|      Thomas Frazier|Central|        Wisconsin|    Sun Prairie|      53590|        Consumer|      Critical|Delivery Truck|       Furniture|  Chairs & Chairmats|       Jumbo Drum|global troy execu...|2012-02-06|2012-02-07|    0.01|    500.98|           5.01|        495.97|        126.0|      11|\n",
      "|   91442|       3359|       Jeffrey Cheng|Central|        Wisconsin|      Wauwatosa|      53213|     Home Office|           Low|Delivery Truck|       Furniture|              Tables|        Jumbo Box|chromcraft bullno...|2013-09-13|2013-09-20|    0.02|    550.98|          11.02|        539.96|       147.12|      14|\n",
      "+--------+-----------+--------------------+-------+-----------------+---------------+-----------+----------------+--------------+--------------+----------------+--------------------+-----------------+--------------------+----------+----------+--------+----------+---------------+--------------+-------------+--------+\n",
      "\n"
     ]
    }
   ],
   "source": [
    "df_cleaned.filter(col(\"Shipping Cost\") > 100).show()"
   ]
  },
  {
   "cell_type": "markdown",
   "id": "07ca609b",
   "metadata": {},
   "source": [
    "shipping cost is per product being shipped"
   ]
  },
  {
   "cell_type": "code",
   "execution_count": 15,
   "id": "1d761788",
   "metadata": {},
   "outputs": [],
   "source": [
    "from functools import reduce\n",
    "import re\n",
    "\n",
    "# Function to convert to snake_case\n",
    "def to_snake_case(name):\n",
    "    name = re.sub(r'[\\s\\-]+', '_', name)  # Replace spaces/dashes with underscores\n",
    "    name = re.sub(r'([a-z0-9])([A-Z])', r'\\1_\\2', name)  # Convert camelCase\n",
    "    return name.lower()\n",
    "\n",
    "# Original and new column names\n",
    "oldColumns = df_cleaned.schema.names\n",
    "newColumns = [to_snake_case(name) for name in oldColumns]\n",
    "\n",
    "# Rename columns using reduce\n",
    "df_cleaned = reduce(\n",
    "    lambda df, idx: df.withColumnRenamed(oldColumns[idx], newColumns[idx]),\n",
    "    range(len(oldColumns)),\n",
    "    df_cleaned\n",
    ")\n"
   ]
  },
  {
   "cell_type": "code",
   "execution_count": 16,
   "id": "9028b826",
   "metadata": {},
   "outputs": [],
   "source": [
    "# Original and new column names\n",
    "return_old_columns = returns.schema.names\n",
    "return_new_columns = [to_snake_case(name) for name in return_old_columns]\n",
    "\n",
    "# Rename columns using reduce\n",
    "returns = reduce(\n",
    "    lambda df, idx: df.withColumnRenamed(return_old_columns[idx], return_new_columns[idx]),\n",
    "    range(len(return_old_columns)),\n",
    "    returns\n",
    ")\n"
   ]
  },
  {
   "cell_type": "code",
   "execution_count": 17,
   "id": "ab18a11e",
   "metadata": {},
   "outputs": [],
   "source": [
    "try:\n",
    "    jdbc_url = (\n",
    "    \"jdbc:sqlserver://DESKTOP-2ETDICD;databaseName=superstore_etl;\"\n",
    "    \"encrypt=true;trustServerCertificate=true;\"\n",
    "    )\n",
    "\n",
    "    df_cleaned.write \\\n",
    "      .format(\"jdbc\") \\\n",
    "      .option(\"url\", jdbc_url) \\\n",
    "      .option(\"dbtable\", \"dbo.staging_orders\") \\\n",
    "      .option(\"user\", os.getenv('DB_USER')) \\\n",
    "      .option(\"password\", os.getenv('DB_PASSWORD')) \\\n",
    "      .option(\"driver\", \"com.microsoft.sqlserver.jdbc.SQLServerDriver\") \\\n",
    "      .mode(\"overwrite\") \\\n",
    "      .save()\n",
    "    \n",
    "    returns.write \\\n",
    "      .format(\"jdbc\") \\\n",
    "      .option(\"url\", jdbc_url) \\\n",
    "      .option(\"dbtable\", \"dbo.customer_returns\") \\\n",
    "      .option(\"user\", os.getenv('DB_USER')) \\\n",
    "      .option(\"password\", os.getenv('DB_PASSWORD')) \\\n",
    "      .option(\"driver\", \"com.microsoft.sqlserver.jdbc.SQLServerDriver\") \\\n",
    "      .mode(\"overwrite\") \\\n",
    "      .save()\n",
    "    \n",
    "except Exception as err:\n",
    "  print(err)"
   ]
  }
 ],
 "metadata": {
  "kernelspec": {
   "display_name": "base",
   "language": "python",
   "name": "python3"
  },
  "language_info": {
   "codemirror_mode": {
    "name": "ipython",
    "version": 3
   },
   "file_extension": ".py",
   "mimetype": "text/x-python",
   "name": "python",
   "nbconvert_exporter": "python",
   "pygments_lexer": "ipython3",
   "version": "3.12.7"
  }
 },
 "nbformat": 4,
 "nbformat_minor": 5
}
