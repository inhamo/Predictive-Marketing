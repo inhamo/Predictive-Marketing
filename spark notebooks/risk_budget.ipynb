{
 "cells": [
  {
   "cell_type": "code",
   "execution_count": 7,
   "id": "6066f068",
   "metadata": {},
   "outputs": [],
   "source": [
    "import findspark\n",
    "from pyspark.sql import SparkSession, Window\n",
    "from pyspark.sql.types import StringType\n",
    "import pyspark.sql.functions as f\n",
    "\n",
    "import pandas as pd \n",
    "import numpy as np \n",
    "import matplotlib.pyplot as plt \n",
    "import seaborn as sns \n",
    "import warnings \n",
    "\n",
    "warnings.filterwarnings(\"ignore\")"
   ]
  },
  {
   "cell_type": "code",
   "execution_count": 8,
   "id": "69d847ef",
   "metadata": {},
   "outputs": [],
   "source": [
    "findspark.init()\n",
    "\n",
    "spark = SparkSession.builder \\\n",
    "    .appName(\"Risk Budget\") \\\n",
    "    .config(\"spark.driver.memory\", \"2g\") \\\n",
    "    .config(\"spark.executor.memory\", \"2g\") \\\n",
    "    .config(\"spark.driver.extraClassPath\", r\"C:\\Drivers\\sqljdbc_12.10.0.0_enu\\sqljdbc_12.10\\enu\\jars\\mssql-jdbc-12.10.0.jre11.jar\") \\\n",
    "    .getOrCreate()\n",
    "\n",
    "# Read CSV\n",
    "customers = spark.read.csv(\"../final data/customer_features.csv\", header=True, inferSchema=True)\n",
    "orders = spark.read.csv(\"../final data/orders_facts.csv\", header=True, inferSchema =True)"
   ]
  },
  {
   "cell_type": "code",
   "execution_count": 9,
   "id": "d95b2b8a",
   "metadata": {},
   "outputs": [],
   "source": [
    "orders = orders \\\n",
    "    .withColumn(\n",
    "        \"order_year\", f.year(f.col(\"order_date\"))\n",
    "    ).withColumn(\n",
    "        \"order_month\", f.month(f.col(\"order_date\"))\n",
    "    )"
   ]
  },
  {
   "cell_type": "markdown",
   "id": "34bf6b54",
   "metadata": {},
   "source": [
    "# RISK BUDGET \n",
    "Not all churn is created equal"
   ]
  },
  {
   "cell_type": "code",
   "execution_count": 20,
   "id": "eef5bc3a",
   "metadata": {},
   "outputs": [],
   "source": [
    "years = [row[\"order_year\"] for row in orders.select(\"order_year\").distinct().collect()]\n",
    "yearly_budget_dfs = []\n",
    "\n",
    "order_value = orders.join(\n",
    "    customers, \"customer_id\"\n",
    ").withColumn(\n",
    "    \"start_year\", f.year(f.to_date(\"customer_first_date\"))\n",
    ").groupBy(\n",
    "    \"customer_id\", \"order_id\", \"order_year\", \"start_year\"\n",
    ").agg(\n",
    "    f.avg(\"total_price\").alias(\"aov\")\n",
    ")\n",
    "\n",
    "for year in years:\n",
    "    # Filter for current year\n",
    "    this_year_df = order_value.filter(f.col(\"order_year\") == year)\n",
    "\n",
    "    # Compute quantiles once\n",
    "    q33, q66 = this_year_df.approxQuantile(\"aov\", [0.33, 0.66], 0.001)\n",
    "\n",
    "    # Define conditions\n",
    "    aov_grouped = this_year_df.withColumn(\n",
    "        \"aov_group\",\n",
    "        f.when(f.col(\"start_year\") == year, \"New\")\n",
    "         .when(f.col(\"aov\") <= q33, \"Low\")\n",
    "         .when((f.col(\"aov\") > q33) & (f.col(\"aov\") <= q66), \"Med\")\n",
    "         .when(f.col(\"aov\") > q66, \"High\")\n",
    "         .otherwise(\"Unknown\")\n",
    "    )\n",
    "\n",
    "    yearly_budget_dfs.append((year, aov_grouped))\n"
   ]
  },
  {
   "cell_type": "code",
   "execution_count": null,
   "id": "5fb5fcce",
   "metadata": {},
   "outputs": [],
   "source": [
    "for year, df in yearly_budget_dfs:\n",
    "    print(f\"=== Year: {year} ===\")\n",
    "    df.groupBy(\"aov_group\").agg(\n",
    "        f.countDistinct(\"customer_id\").alias(\"no_of_customers\"),\n",
    "        f.round(f.avg(\"aov\").alias(\"value\"), 2)\n",
    "    ).show()"
   ]
  }
 ],
 "metadata": {
  "kernelspec": {
   "display_name": "base",
   "language": "python",
   "name": "python3"
  },
  "language_info": {
   "codemirror_mode": {
    "name": "ipython",
    "version": 3
   },
   "file_extension": ".py",
   "mimetype": "text/x-python",
   "name": "python",
   "nbconvert_exporter": "python",
   "pygments_lexer": "ipython3",
   "version": "3.12.7"
  }
 },
 "nbformat": 4,
 "nbformat_minor": 5
}
