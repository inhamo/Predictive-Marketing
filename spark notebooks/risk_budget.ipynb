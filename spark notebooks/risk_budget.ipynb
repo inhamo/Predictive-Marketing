{
 "cells": [
  {
   "cell_type": "code",
   "execution_count": 22,
   "id": "6066f068",
   "metadata": {},
   "outputs": [],
   "source": [
    "import findspark\n",
    "from pyspark.sql import SparkSession, Window\n",
    "from pyspark.sql.types import StringType\n",
    "import pyspark.sql.functions as f\n",
    "\n",
    "import pandas as pd \n",
    "import numpy as np \n",
    "import matplotlib.pyplot as plt \n",
    "import seaborn as sns \n",
    "import warnings \n",
    "\n",
    "warnings.filterwarnings(\"ignore\")"
   ]
  },
  {
   "cell_type": "code",
   "execution_count": 23,
   "id": "69d847ef",
   "metadata": {},
   "outputs": [],
   "source": [
    "findspark.init()\n",
    "\n",
    "spark = SparkSession.builder \\\n",
    "    .appName(\"Risk Budget\") \\\n",
    "    .config(\"spark.driver.memory\", \"2g\") \\\n",
    "    .config(\"spark.executor.memory\", \"2g\") \\\n",
    "    .config(\"spark.driver.extraClassPath\", r\"C:\\Drivers\\sqljdbc_12.10.0.0_enu\\sqljdbc_12.10\\enu\\jars\\mssql-jdbc-12.10.0.jre11.jar\") \\\n",
    "    .getOrCreate()\n",
    "\n",
    "# Read CSV\n",
    "customers = spark.read.csv(\"../final data/customer_features.csv\", header=True, inferSchema=True)\n",
    "orders = spark.read.csv(\"../final data/orders_facts.csv\", header=True, inferSchema =True)"
   ]
  },
  {
   "cell_type": "code",
   "execution_count": 24,
   "id": "d95b2b8a",
   "metadata": {},
   "outputs": [],
   "source": [
    "orders = orders \\\n",
    "    .withColumn(\n",
    "        \"order_year\", f.year(f.col(\"order_date\"))\n",
    "    ).withColumn(\n",
    "        \"order_month\", f.month(f.col(\"order_date\"))\n",
    "    )"
   ]
  },
  {
   "cell_type": "markdown",
   "id": "34bf6b54",
   "metadata": {},
   "source": [
    "# RISK BUDGET \n",
    "Not all churn is created equal. Losing a high-value customer is much more costly than losing a low value customer. Therefore, when allocating your retention budget think about different value-based segments and how likely they are to buy from you again."
   ]
  },
  {
   "cell_type": "code",
   "execution_count": null,
   "id": "a8b002de",
   "metadata": {},
   "outputs": [
    {
     "data": {
      "text/plain": [
       "[2010, 2011, 2012, 2013]"
      ]
     },
     "execution_count": 59,
     "metadata": {},
     "output_type": "execute_result"
    }
   ],
   "source": [
    "years = [row[\"order_year\"] for row in set(orders.select(\"order_year\").collect())]"
   ]
  },
  {
   "cell_type": "code",
   "execution_count": 64,
   "id": "0a2d8c9e",
   "metadata": {},
   "outputs": [],
   "source": [
    "yearly_budget = []\n",
    "\n",
    "for year in years:\n",
    "    risk_budget = orders.join(\n",
    "        customers, \n",
    "        \"customer_id\"\n",
    "    ).withColumn(\n",
    "        \"start_year\", f.year(f.to_date(\"customer_first_date\"))\n",
    "    ).select(\n",
    "        \"customer_id\", \n",
    "        \"total_price\", \n",
    "        \"start_year\", \n",
    "        \"order_year\"\n",
    "    ).groupBy(\n",
    "        \"customer_id\",\n",
    "        \"start_year\"\n",
    "    ).agg(\n",
    "        f.round(f.avg(\"total_price\"), 2).alias(\"order_value\")\n",
    "    ).orderBy(\n",
    "        f.asc(\"customer_id\")\n",
    "    )\n",
    "\n",
    "    upper_quantile = risk_budget.approxQuantile(\"order_value\", [0.66], 0)[0]\n",
    "    lower_quantile = risk_budget.approxQuantile(\"order_value\", [0.33], 0)[0]\n",
    "\n",
    "    risk_budget = risk_budget.withColumn(\n",
    "        \"customer_group\",\n",
    "        f.when(f.col(\"start_year\") == year, \"New\")\n",
    "        .when(f.col(\"order_value\") > upper_quantile, \"High\")\n",
    "        .when(f.col(\"order_value\") < lower_quantile, \"Low\")\n",
    "        .otherwise(\"Med\")\n",
    "    )\n",
    "\n",
    "    customers_a = [row.customer_id for row in orders.select(\"customer_id\")\n",
    "                  .filter(f.col(\"order_year\") == year - 1).distinct().collect()]\n",
    "\n",
    "    customers_b = [row.customer_id for row in orders.select(\"customer_id\")\n",
    "                  .filter(f.col(\"order_year\") == year).distinct().collect()]\n",
    "    \n",
    "    returning_customers = list(set(customers_a) & set(customers_b))\n",
    "\n",
    "    risk_budget_2014 = risk_budget.withColumn(\n",
    "        \"is_returning\", \n",
    "        f.when(f.col(\"customer_id\").isin(returning_customers), 1).otherwise(0)\n",
    "    ).filter(\n",
    "        f.col(\"start_year\") >= year - 1\n",
    "    )\n",
    "\n",
    "    risk_budget_final = risk_budget_2014.groupBy(\"customer_group\").agg(\n",
    "        f.countDistinct(\"customer_id\").alias(\"Number of Customers\"),\n",
    "        f.round(f.avg(\"order_value\"), 2).alias(\"Customer Value\"),\n",
    "        f.round((f.avg(\"is_returning\")) * 100, 2).alias(\"Retention\")\n",
    "    ).withColumn(\n",
    "        \"$ at Risk\",\n",
    "        f.round(f.col(\"Number of Customers\") * f.col(\"Customer Value\") * (f.col(\"Retention\") / 100), 2)\n",
    "    )\n",
    "\n",
    "    total_at_risk = risk_budget_final.agg(f.sum(f.col(\"$ at Risk\")).alias(\"total\")).collect()[0][\"total\"]\n",
    "\n",
    "    risk_budget_final = risk_budget_final.withColumn(\n",
    "        \"Risk\",\n",
    "        f.coalesce(f.round(f.col(\"$ at Risk\") / f.lit(total_at_risk), 2) * 100, f.lit(\"--\"))\n",
    "    )\n",
    "\n",
    "    yearly_budget.append(risk_budget_final)"
   ]
  },
  {
   "cell_type": "code",
   "execution_count": null,
   "id": "b9882dba",
   "metadata": {},
   "outputs": [
    {
     "name": "stdout",
     "output_type": "stream",
     "text": [
      "========2010=========\n",
      "+--------------+-------------------+--------------+---------+---------+----+\n",
      "|customer_group|Number of Customers|Customer Value|Retention|$ at Risk|Risk|\n",
      "+--------------+-------------------+--------------+---------+---------+----+\n",
      "|          High|                464|       1971.53|      0.0|      0.0|  --|\n",
      "|           Low|                627|         82.56|      0.0|      0.0|  --|\n",
      "|           Med|                482|        411.53|      0.0|      0.0|  --|\n",
      "|           New|               1130|        846.93|      0.0|      0.0|  --|\n",
      "+--------------+-------------------+--------------+---------+---------+----+\n",
      "\n",
      "========2011=========\n"
     ]
    }
   ],
   "source": [
    "for i in range(len(years)):\n",
    "    print(f\"========{years[i]}=========\")\n",
    "    yearly_budget[i].show()"
   ]
  },
  {
   "cell_type": "markdown",
   "id": "4a6e67a4",
   "metadata": {},
   "source": [
    "#### Key Insights (2013)\n",
    "\n",
    "* **High-value customers**, while fewer in number, represent 80% of the total retention risk. Losing just one of these customers cost ~24x more than a low-value customer. \n",
    "* **Medium-value customers**, contribute 18% of total risk, and ahve the highest retention rate (54%.26%), indicating good loyalty with potential for even more updside. \n",
    "* **Low-value customers**, have a low retention rate (21.67%) but pose minimal financial risk (2%) retention efforts here are least efficient. "
   ]
  },
  {
   "cell_type": "markdown",
   "id": "2eb2c17e",
   "metadata": {},
   "source": []
  }
 ],
 "metadata": {
  "kernelspec": {
   "display_name": "base",
   "language": "python",
   "name": "python3"
  },
  "language_info": {
   "codemirror_mode": {
    "name": "ipython",
    "version": 3
   },
   "file_extension": ".py",
   "mimetype": "text/x-python",
   "name": "python",
   "nbconvert_exporter": "python",
   "pygments_lexer": "ipython3",
   "version": "3.12.7"
  }
 },
 "nbformat": 4,
 "nbformat_minor": 5
}
