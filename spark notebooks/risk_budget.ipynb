{
 "cells": [
  {
   "cell_type": "code",
   "execution_count": 22,
   "id": "6066f068",
   "metadata": {},
   "outputs": [],
   "source": [
    "import findspark\n",
    "from pyspark.sql import SparkSession, Window\n",
    "from pyspark.sql.types import StringType\n",
    "import pyspark.sql.functions as f\n",
    "\n",
    "import pandas as pd \n",
    "import numpy as np \n",
    "import matplotlib.pyplot as plt \n",
    "import seaborn as sns \n",
    "import warnings \n",
    "\n",
    "warnings.filterwarnings(\"ignore\")"
   ]
  },
  {
   "cell_type": "code",
   "execution_count": 23,
   "id": "69d847ef",
   "metadata": {},
   "outputs": [],
   "source": [
    "findspark.init()\n",
    "\n",
    "spark = SparkSession.builder \\\n",
    "    .appName(\"Risk Budget\") \\\n",
    "    .config(\"spark.driver.memory\", \"2g\") \\\n",
    "    .config(\"spark.executor.memory\", \"2g\") \\\n",
    "    .config(\"spark.driver.extraClassPath\", r\"C:\\Drivers\\sqljdbc_12.10.0.0_enu\\sqljdbc_12.10\\enu\\jars\\mssql-jdbc-12.10.0.jre11.jar\") \\\n",
    "    .getOrCreate()\n",
    "\n",
    "# Read CSV\n",
    "customers = spark.read.csv(\"../final data/customer_features.csv\", header=True, inferSchema=True)\n",
    "orders = spark.read.csv(\"../final data/orders_facts.csv\", header=True, inferSchema =True)"
   ]
  },
  {
   "cell_type": "code",
   "execution_count": 24,
   "id": "d95b2b8a",
   "metadata": {},
   "outputs": [],
   "source": [
    "orders = orders \\\n",
    "    .withColumn(\n",
    "        \"order_year\", f.year(f.col(\"order_date\"))\n",
    "    ).withColumn(\n",
    "        \"order_month\", f.month(f.col(\"order_date\"))\n",
    "    )"
   ]
  },
  {
   "cell_type": "markdown",
   "id": "34bf6b54",
   "metadata": {},
   "source": [
    "# RISK BUDGET \n",
    "Not all churn is created equal. Losing a high-value customer is much more costly than losing a low value customer. Therefore, when allocating your retention budget think about different value-based segments and how likely they are to buy from you again."
   ]
  },
  {
   "cell_type": "code",
   "execution_count": 25,
   "id": "2e25420e",
   "metadata": {},
   "outputs": [
    {
     "name": "stdout",
     "output_type": "stream",
     "text": [
      "+-----------+----------+-----------+\n",
      "|customer_id|start_year|order_value|\n",
      "+-----------+----------+-----------+\n",
      "|          2|      2012|        5.7|\n",
      "|          3|      2010|     824.58|\n",
      "|          5|      2010|     2999.4|\n",
      "|          6|      2011|     848.09|\n",
      "|          7|      2012|     221.73|\n",
      "|          8|      2012|      648.5|\n",
      "|          9|      2012|    2065.36|\n",
      "|         10|      2011|     204.96|\n",
      "|         11|      2010|     196.02|\n",
      "|         12|      2012|      84.32|\n",
      "|         14|      2010|     243.73|\n",
      "|         15|      2010|       81.0|\n",
      "|         16|      2010|     386.15|\n",
      "|         17|      2011|      20.32|\n",
      "|         18|      2010|     625.24|\n",
      "|         19|      2010|     217.44|\n",
      "|         20|      2012|     278.74|\n",
      "|         21|      2010|     1604.8|\n",
      "|         23|      2011|      807.8|\n",
      "|         24|      2010|     546.35|\n",
      "+-----------+----------+-----------+\n",
      "only showing top 20 rows\n",
      "\n"
     ]
    }
   ],
   "source": [
    "risk_budget = orders.join(\n",
    "    customers, \n",
    "    \"customer_id\"\n",
    ").withColumn(\n",
    "    \"start_year\", f.year(f.to_date(\"customer_first_date\"))\n",
    ").select(\n",
    "    \"customer_id\", \n",
    "    \"total_price\", \n",
    "    \"start_year\", \n",
    "    \"order_year\"\n",
    ").groupBy(\n",
    "    \"customer_id\",\n",
    "    \"start_year\"\n",
    ").agg(\n",
    "    f.round(f.avg(\"total_price\"), 2).alias(\"order_value\")\n",
    ").orderBy(\n",
    "    f.asc(\"customer_id\")\n",
    ")\n",
    "\n",
    "risk_budget.show()\n"
   ]
  },
  {
   "cell_type": "code",
   "execution_count": 26,
   "id": "39cd2478",
   "metadata": {},
   "outputs": [
    {
     "name": "stdout",
     "output_type": "stream",
     "text": [
      "+-----------+----------+-----------+--------------+\n",
      "|customer_id|start_year|order_value|customer_group|\n",
      "+-----------+----------+-----------+--------------+\n",
      "|          2|      2012|        5.7|           Low|\n",
      "|          3|      2010|     824.58|          High|\n",
      "|          5|      2010|     2999.4|          High|\n",
      "|          6|      2011|     848.09|          High|\n",
      "|          7|      2012|     221.73|           Med|\n",
      "|          8|      2012|      648.5|           Med|\n",
      "|          9|      2012|    2065.36|          High|\n",
      "|         10|      2011|     204.96|           Med|\n",
      "|         11|      2010|     196.02|           Low|\n",
      "|         12|      2012|      84.32|           Low|\n",
      "|         14|      2010|     243.73|           Med|\n",
      "|         15|      2010|       81.0|           Low|\n",
      "|         16|      2010|     386.15|           Med|\n",
      "|         17|      2011|      20.32|           Low|\n",
      "|         18|      2010|     625.24|           Med|\n",
      "|         19|      2010|     217.44|           Med|\n",
      "|         20|      2012|     278.74|           Med|\n",
      "|         21|      2010|     1604.8|          High|\n",
      "|         23|      2011|      807.8|          High|\n",
      "|         24|      2010|     546.35|           Med|\n",
      "+-----------+----------+-----------+--------------+\n",
      "only showing top 20 rows\n",
      "\n"
     ]
    }
   ],
   "source": [
    "upper_quantile = risk_budget.approxQuantile(\"order_value\", [0.66], 0)[0]\n",
    "lower_quantile = risk_budget.approxQuantile(\"order_value\", [0.33], 0)[0]\n",
    "\n",
    "risk_budget = risk_budget.withColumn(\n",
    "    \"customer_group\",\n",
    "    f.when(f.col(\"start_year\") == 2013, \"New\")\n",
    "     .when(f.col(\"order_value\") > upper_quantile, \"High\")\n",
    "     .when(f.col(\"order_value\") < lower_quantile, \"Low\")\n",
    "     .otherwise(\"Med\")\n",
    ")\n",
    "\n",
    "risk_budget.show()"
   ]
  },
  {
   "cell_type": "code",
   "execution_count": 40,
   "id": "ca0ca999",
   "metadata": {},
   "outputs": [],
   "source": [
    "customers_2012 = [row.customer_id for row in orders.select(\"customer_id\")\n",
    "                  .filter(f.col(\"order_year\") == 2012).distinct().collect()]\n",
    "\n",
    "customers_2013 = [row.customer_id for row in orders.select(\"customer_id\")\n",
    "                  .filter(f.col(\"order_year\") == 2013).distinct().collect()]"
   ]
  },
  {
   "cell_type": "code",
   "execution_count": null,
   "id": "fd3c9cb4",
   "metadata": {},
   "outputs": [
    {
     "name": "stdout",
     "output_type": "stream",
     "text": [
      "[2048, 2050, 2053, 2055, 2058, 2059, 2062, 15, 2063, 18, 2066, 20, 21, 23, 24, 25, 26, 27, 2075, 33, 2081, 35, 2082, 2087, 42, 2090, 2092, 48, 2100, 2101, 2103, 2107, 60, 61, 2108, 2110, 2111, 66, 68, 2118, 2119, 2123, 81, 83, 2131, 2132, 2133, 2139, 93, 94, 95, 2148, 102, 119, 122, 125, 130, 133, 2183, 2185, 2188, 2189, 2190, 2192, 145, 2196, 2197, 152, 153, 154, 2202, 2203, 2204, 2209, 164, 2216, 2218, 2224, 177, 2225, 180, 181, 2243, 200, 2248, 2249, 2258, 212, 217, 2265, 2266, 2268, 221, 2270, 2277, 2279, 236, 238, 2287, 241, 248, 251, 2300, 255, 2303, 258, 2309, 262, 2313, 270, 272, 274, 2329, 2332, 287, 2337, 290, 2341, 2342, 2343, 2347, 2351, 2352, 305, 306, 307, 308, 310, 2360, 2366, 324, 2373, 2374, 2380, 2382, 2385, 2395, 2397, 2398, 2400, 354, 2403, 357, 360, 2409, 2410, 2417, 373, 375, 378, 2426, 2431, 388, 393, 394, 2442, 397, 398, 399, 2447, 402, 2450, 2453, 2454, 408, 2457, 2463, 417, 2466, 2469, 2472, 427, 430, 2480, 2484, 2487, 2490, 2491, 448, 2498, 2499, 453, 454, 2503, 463, 464, 471, 476, 2525, 478, 2542, 497, 2545, 499, 500, 2546, 2547, 503, 2548, 2549, 2554, 508, 514, 2571, 2574, 537, 540, 2588, 2589, 543, 544, 2593, 546, 2596, 551, 553, 555, 556, 559, 563, 2617, 2618, 572, 2620, 576, 2626, 2630, 2637, 2638, 2639, 593, 594, 2641, 2643, 597, 2645, 600, 602, 604, 605, 606, 607, 608, 609, 2652, 611, 2656, 2657, 618, 2666, 2669, 631, 632, 635, 640, 642, 645, 649, 2700, 2704, 2710, 663, 2713, 2715, 672, 2724, 2725, 679, 2728, 2730, 2731, 691, 2741, 694, 2743, 696, 697, 698, 699, 701, 2750, 2752, 2753, 2754, 2756, 718, 719, 2769, 2771, 2779, 2787, 2792, 745, 749, 753, 754, 762, 2812, 2813, 772, 773, 2820, 2825, 2831, 787, 2837, 797, 2848, 801, 804, 805, 2854, 2859, 2860, 819, 2867, 2869, 823, 825, 2874, 830, 831, 2880, 2882, 2885, 838, 840, 2889, 2890, 2891, 2893, 2894, 2896, 853, 2908, 862, 2911, 2924, 2926, 2927, 880, 881, 883, 2931, 887, 889, 890, 893, 894, 895, 896, 2945, 898, 2947, 2949, 2951, 907, 2957, 2960, 913, 914, 915, 2962, 2963, 918, 2977, 2981, 2988, 945, 2995, 949, 2998, 951, 2999, 3000, 3001, 3004, 3006, 962, 3011, 3012, 973, 3026, 979, 3029, 3030, 3031, 984, 3039, 3042, 3045, 3048, 1006, 3060, 1015, 1017, 1025, 3073, 3075, 3076, 1030, 1031, 3079, 1033, 3081, 3083, 1039, 3087, 1041, 1043, 1044, 3092, 1053, 3103, 3106, 1060, 3108, 1062, 3109, 3112, 1068, 1069, 3120, 3121, 3124, 1080, 3128, 3129, 3132, 1085, 1086, 3134, 1088, 1091, 3142, 3145, 3146, 3148, 3149, 1103, 1104, 3151, 1106, 3155, 1108, 1109, 3156, 1113, 3162, 1115, 1117, 1118, 1119, 3168, 3169, 3172, 1129, 1133, 3187, 3188, 1141, 1142, 3191, 3192, 1146, 3200, 3214, 3218, 1176, 3228, 1182, 1183, 3231, 1185, 3236, 3239, 1193, 3244, 3249, 3251, 3257, 3258, 1211, 1213, 3261, 1217, 3272, 3273, 3274, 1228, 1229, 3276, 1231, 3279, 1233, 1234, 3283, 3284, 1237, 1238, 3285, 3287, 1241, 3289, 3295, 1251, 3303, 1257, 1261, 3325, 3328, 1281, 1282, 3331, 3333, 1286, 1291, 3341, 3342, 1295, 1296, 3345, 3347, 1304, 1307, 3359, 1312, 1313, 1314, 1317, 3366, 3367, 3368, 3369, 3375, 3376, 3379, 3386, 1339, 1340, 1343, 3393, 1346, 3394, 1348, 3396, 3397, 1352, 3400, 1368, 1386, 1389, 1391, 1402, 1404, 1409, 1410, 1411, 1413, 1416, 1421, 1429, 1430, 1434, 1435, 1438, 1442, 1443, 1458, 1459, 1462, 1463, 1466, 1468, 1476, 1480, 1481, 1490, 1494, 1503, 1531, 1536, 1538, 1540, 1545, 1547, 1552, 1553, 1558, 1562, 1568, 1571, 1572, 1574, 1575, 1588, 1602, 1606, 1616, 1619, 1620, 1623, 1625, 1633, 1637, 1650, 1654, 1657, 1658, 1660, 1667, 1675, 1676, 1677, 1680, 1689, 1690, 1707, 1708, 1722, 1723, 1726, 1741, 1744, 1745, 1748, 1750, 1755, 1765, 1769, 1771, 1772, 1773, 1775, 1778, 1782, 1783, 1790, 1793, 1799, 1802, 1817, 1818, 1821, 1822, 1824, 1827, 1836, 1837, 1847, 1852, 1873, 1875, 1888, 1890, 1891, 1893, 1908, 1913, 1917, 1927, 1931, 1938, 1942, 1946, 1949, 1952, 1953, 1956, 1958, 1959, 1961, 1967, 1974, 1979, 1990, 1994, 1998, 1999, 2001, 2006, 2007, 2017, 2018, 2019, 2023, 2025, 2026, 2034, 2037, 2039]\n",
      "+-----------+----------+-----------+--------------+------------+\n",
      "|customer_id|start_year|order_value|customer_group|is_returning|\n",
      "+-----------+----------+-----------+--------------+------------+\n",
      "|       3192|      2012|     753.55|          High|           1|\n",
      "|       2300|      2012|    1200.31|          High|           1|\n",
      "|        417|      2012|     167.61|           Low|           1|\n",
      "|       2123|      2012|       5.79|           Low|           1|\n",
      "|       1409|      2012|     185.74|           Low|           1|\n",
      "|       1234|      2012|     127.97|           Low|           1|\n",
      "|        251|      2012|    1134.87|          High|           1|\n",
      "|        893|      2012|     290.09|           Med|           1|\n",
      "|       2574|      2012|    1311.75|          High|           1|\n",
      "|        454|      2012|      570.8|           Med|           1|\n",
      "|       3273|      2012|     108.16|           Low|           1|\n",
      "|       1296|      2012|    1438.82|          High|           1|\n",
      "|       3083|      2012|     892.71|          High|           1|\n",
      "|       2998|      2012|     187.87|           Low|           1|\n",
      "|       1468|      2012|     1371.3|          High|           1|\n",
      "|       2101|      2012|     200.81|           Med|           1|\n",
      "|       2981|      2012|     781.95|          High|           1|\n",
      "|       2277|      2012|     103.35|           Low|           1|\n",
      "|       3145|      2012|    1757.99|          High|           1|\n",
      "|       2400|      2012|     871.15|          High|           1|\n",
      "+-----------+----------+-----------+--------------+------------+\n",
      "only showing top 20 rows\n",
      "\n"
     ]
    }
   ],
   "source": [
    "returning_customers = list(set(customers_2012) & set(customers_2013))\n",
    "\n",
    "risk_budget_2014 = risk_budget.withColumn(\n",
    "    \"is_returning\", \n",
    "    f.when(f.col(\"customer_id\").isin(returning_customers), 1).otherwise(0)\n",
    ").filter(\n",
    "    f.col(\"start_year\") >= 2012\n",
    ")\n",
    "\n",
    "risk_budget_2014.orderBy(f.desc(\"is_returning\")).show()"
   ]
  },
  {
   "cell_type": "code",
   "execution_count": 57,
   "id": "9e51dd8f",
   "metadata": {},
   "outputs": [
    {
     "name": "stdout",
     "output_type": "stream",
     "text": [
      "+--------------+-------------------+--------------+---------+---------+----+\n",
      "|customer_group|Number of Customers|Customer Value|Retention|$ at Risk|Risk|\n",
      "+--------------+-------------------+--------------+---------+---------+----+\n",
      "|          High|                130|       1893.87|    52.31|128788.84|80.0|\n",
      "|           Low|                203|         80.14|    21.67|  3525.37| 2.0|\n",
      "|           Med|                129|        417.09|    54.26| 29194.38|18.0|\n",
      "|           New|                397|        774.87|      0.0|      0.0| 0.0|\n",
      "+--------------+-------------------+--------------+---------+---------+----+\n",
      "\n"
     ]
    }
   ],
   "source": [
    "risk_budget_final = risk_budget_2014.groupBy(\"customer_group\").agg(\n",
    "    f.countDistinct(\"customer_id\").alias(\"Number of Customers\"),\n",
    "    f.round(f.avg(\"order_value\"), 2).alias(\"Customer Value\"),\n",
    "    f.round((f.avg(\"is_returning\")) * 100, 2).alias(\"Retention\")\n",
    ").withColumn(\n",
    "    \"$ at Risk\",\n",
    "    f.round(f.col(\"Number of Customers\") * f.col(\"Customer Value\") * (f.col(\"Retention\") / 100), 2)\n",
    ")\n",
    "\n",
    "total_at_risk = risk_budget_final.agg(f.sum(f.col(\"$ at Risk\")).alias(\"total\")).collect()[0][\"total\"]\n",
    "\n",
    "risk_budget_final = risk_budget_final.withColumn(\n",
    "    \"Risk\",\n",
    "    f.round(f.col(\"$ at Risk\") / f.lit(total_at_risk), 2) * 100\n",
    ")\n",
    "\n",
    "risk_budget_final.show()\n"
   ]
  },
  {
   "cell_type": "markdown",
   "id": "4a6e67a4",
   "metadata": {},
   "source": [
    "#### Key Insights \n",
    "\n",
    "* **High-value customers**, while fewer in number, represent 80% of the total retention risk. Losing just one of these customers cost ~24x more than a low-value customer. \n",
    "* **Medium-value customers**, contribute 18% of total risk, and ahve the highest retention rate (54%.26%), indicating good loyalty with potential for even more updside. \n",
    "* **Low-value customers**, have a low retention rate (21.67%) but pose minimal financial risk (2%) retention efforts here are least efficient. "
   ]
  },
  {
   "cell_type": "markdown",
   "id": "2eb2c17e",
   "metadata": {},
   "source": []
  }
 ],
 "metadata": {
  "kernelspec": {
   "display_name": "base",
   "language": "python",
   "name": "python3"
  },
  "language_info": {
   "codemirror_mode": {
    "name": "ipython",
    "version": 3
   },
   "file_extension": ".py",
   "mimetype": "text/x-python",
   "name": "python",
   "nbconvert_exporter": "python",
   "pygments_lexer": "ipython3",
   "version": "3.12.7"
  }
 },
 "nbformat": 4,
 "nbformat_minor": 5
}
